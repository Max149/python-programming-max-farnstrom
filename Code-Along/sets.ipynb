{
 "cells": [
  {
   "cell_type": "markdown",
   "metadata": {},
   "source": [
    "# Sets\n",
    "- items are unordered, unchangeable\n",
    "- item can not be accessed using index and slice\n",
    "- can be of any data type"
   ]
  },
  {
   "cell_type": "code",
   "execution_count": null,
   "metadata": {},
   "outputs": [],
   "source": [
    "# empty set\n",
    "empty_set = set()\n",
    "\n",
    "# creating set with values\n",
    "a = {1, 3, 4, 5, 7}\n",
    "\n",
    "# add value\n",
    "a.add(12)\n",
    "\n",
    "a.update({9, 10, 11})\n",
    "\n",
    "# get number of items\n",
    "print(f\"{len(a) = }\")\n",
    "\n",
    "# remove value\n",
    "a.discard(10)\n",
    "\n",
    "\n",
    "\n",
    "# Print set\n",
    "print(f\"{len(a) = }\")\n"
   ]
  },
  {
   "cell_type": "markdown",
   "metadata": {},
   "source": [
    "# Combining sets\n",
    "- **Union** return a set that contains all items\n",
    "- **intersection** return a new set with items from a and b\n",
    "- **Difference** return item that only exist in a \n",
    "- **symetric difference:** Return a set that contains all items from both a and b, except from the same items"
   ]
  },
  {
   "cell_type": "code",
   "execution_count": null,
   "metadata": {},
   "outputs": [],
   "source": [
    "b = {2, 4, 5, 6, 10}\n",
    "\n",
    "print(f\"{a =}\\n{b =}\\n\")\n",
    "\n",
    "print(f\"{a.union(b) =}\")\n",
    "print(f\"{a.intersection(b) =}\")\n",
    "print(f\"{a.difference(b) =}\")\n",
    "print(f\"{a.symmetric_difference(b) =}\")"
   ]
  }
 ],
 "metadata": {
  "language_info": {
   "name": "python"
  },
  "orig_nbformat": 4
 },
 "nbformat": 4,
 "nbformat_minor": 2
}
