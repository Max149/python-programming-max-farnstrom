{
 "cells": [
  {
   "cell_type": "markdown",
   "metadata": {},
   "source": [
    "# Debugging\n",
    "\n",
    "Finding and correcting errors in code\n",
    "\n",
    "## Break point\n",
    "\n",
    "in all IDE (integreted development enviroments) the devloper has the possibilty to debug code by stepping through instructions one by one and look at the internal states (memory/valuabels) for each step\n",
    "\n",
    "we can set a breakpoint at any line in our code when starting the program in debug mode the code will run up until it hits the first breakpoint from there we can inspect the current state of our program, and we can chose to either run our program until it hits the next breakpoint, or we can use the step over function of the debugger to step one instruction at a time"
   ]
  },
  {
   "cell_type": "code",
   "execution_count": 1,
   "metadata": {},
   "outputs": [
    {
     "name": "stdout",
     "output_type": "stream",
     "text": [
      "hello\n",
      "hello\n",
      "hello\n",
      "8\n"
     ]
    }
   ],
   "source": [
    "def greet(n):\n",
    "    for i in range(n):\n",
    "        print(\"hello\")\n",
    "\n",
    "a = 5\n",
    "b = 3\n",
    "c = a + b\n",
    "my_list = [4,5,6,7]\n",
    "my_list.append(\"hello\")\n",
    "\n",
    "greet(b)\n",
    "print(c)\n"
   ]
  },
  {
   "cell_type": "code",
   "execution_count": 1,
   "metadata": {},
   "outputs": [
    {
     "name": "stdout",
     "output_type": "stream",
     "text": [
      "55783384\u001b[43m\n",
      "\u001b[34m\n"
     ]
    }
   ],
   "source": [
    "from colorama import Fore, Back, Style\n",
    "\n",
    "print(f\"55783384{Back.YELLOW}\")\n",
    "print(Fore.BLUE)\n"
   ]
  }
 ],
 "metadata": {
  "kernelspec": {
   "display_name": "python_max_farnstrom-X2dyWug9",
   "language": "python",
   "name": "python3"
  },
  "language_info": {
   "codemirror_mode": {
    "name": "ipython",
    "version": 3
   },
   "file_extension": ".py",
   "mimetype": "text/x-python",
   "name": "python",
   "nbconvert_exporter": "python",
   "pygments_lexer": "ipython3",
   "version": "3.11.5"
  },
  "orig_nbformat": 4
 },
 "nbformat": 4,
 "nbformat_minor": 2
}
