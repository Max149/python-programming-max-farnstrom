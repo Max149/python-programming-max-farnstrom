{
 "cells": [
  {
   "cell_type": "markdown",
   "metadata": {},
   "source": [
    "# Objektorienterad programmering\n",
    "\n",
    "## fyra frundläggande principer:\n",
    "\n",
    "inkapsling(grupperar information)\n",
    "\n",
    "abstraktion(gömma information)\n",
    "\n",
    "arv(dela information)\n",
    "\n",
    "polymorfism(omdefiniera information)"
   ]
  },
  {
   "cell_type": "markdown",
   "metadata": {},
   "source": [
    "Klass: katt\n",
    "\n",
    "Properties: information about the for example cat, like color, name, weight etc\n",
    "\n",
    "internal state: information about the cats state, hungry, tired or angry\n",
    "\n",
    "methods: information what the cat could do, like run(), jama(int volume) osv\n",
    "\n",
    "name(string)\n",
    "weight(float)\n",
    "color(color)\n",
    "hungry(bool)\n",
    "\n",
    "Class: you can make more classes from one class, also more classes from the second classes, tex:\n",
    "\n",
    "class Animal:\n",
    "\n",
    "class fish\n",
    "\n",
    "class cat\n",
    "\n",
    "class bird\n",
    "\n",
    "\n",
    "\n"
   ]
  },
  {
   "cell_type": "markdown",
   "metadata": {},
   "source": [
    "# Inheritance"
   ]
  },
  {
   "cell_type": "code",
   "execution_count": 35,
   "metadata": {},
   "outputs": [
    {
     "name": "stdout",
     "output_type": "stream",
     "text": [
      "lillbögen is running\n",
      "\n",
      "lillflatan is running\n",
      "lillflatan is barking: VOFOFOF!!!\n",
      "\n",
      "Fiskfitta is running\n",
      "Fiskfitta is swimming\n",
      "\n",
      "Balle is running\n",
      "Balle is barking: VOFOFOF!!!\n",
      "\n"
     ]
    }
   ],
   "source": [
    "class Animal:\n",
    "    def __init__(self, name):\n",
    "        self.name = name\n",
    "\n",
    "    def run(self):\n",
    "        print(f\"{self.name} is running\")\n",
    "\n",
    "    def __repr__(self):\n",
    "        return f\"My name is {self.name} and i am {type(self)}\"\n",
    "\n",
    "    def move(self):\n",
    "        print(f\"{self.name} is running\")\n",
    "\n",
    "\n",
    "class Cat(Animal):\n",
    "    ...\n",
    "\n",
    "class Dog(Animal):\n",
    "    def __init__(self, name, is_loud):\n",
    "        super().__init__(name)\n",
    "        self._is_loud = is_loud\n",
    "    \n",
    "    def _get_voff(self):\n",
    "        return \"VOFOFOF!!\" if self else \"voff!\"\n",
    "\n",
    "    \n",
    "    def bark(self):\n",
    "       print(f\"{self.name} is barking: {self._get_voff()}!\")\n",
    "\n",
    "\n",
    "class Fish(Animal):\n",
    "    def move(self):\n",
    "        super().move()\n",
    "        print(f\"{self.name} is swimming\")\n",
    "\n",
    "\n",
    "animals = [\n",
    "    Cat(\"lillbögen\"),\n",
    "    Dog(\"lillflatan\", is_loud = True),\n",
    "    Fish(\"Fiskfitta\"),\n",
    "    Dog (\"Balle\", is_loud = False)\n",
    "]\n",
    "\n",
    "for animal in animals:\n",
    "    animal.move()\n",
    "    # if hasattr(animal, \"bark\"):\n",
    "    # if type(animal) == Dog:\n",
    "    if isinstance(animal, Dog):\n",
    "        animal.bark()\n",
    "    print()\n"
   ]
  },
  {
   "cell_type": "code",
   "execution_count": 27,
   "metadata": {},
   "outputs": [
    {
     "name": "stdout",
     "output_type": "stream",
     "text": [
      "isinstance(my_cat, Cat) = True\n",
      "isinstance(my_cat, Dog) = False\n",
      "isinstance(my_cat, Animal) = True\n"
     ]
    }
   ],
   "source": [
    "my_cat = Cat(\"allah\")\n",
    "print(f\"{isinstance(my_cat, Cat) = }\")\n",
    "print(f\"{isinstance(my_cat, Dog) = }\")\n",
    "print(f\"{isinstance(my_cat, Animal) = }\")\n",
    "print(f\"{isinstance(my_cat, object) = }\")"
   ]
  },
  {
   "cell_type": "code",
   "execution_count": null,
   "metadata": {},
   "outputs": [],
   "source": [
    "print(f\"{issubclass(Cat, Dog) = }\")\n",
    "print(f\"{issubclass(Cat, Animal) = }\")\n",
    "print(f\"{issubclass(Cat, object) = }\")\n",
    "print(f\"{issubclass(Cat, Cat) = }\")\n",
    "\n",
    "\n"
   ]
  },
  {
   "cell_type": "code",
   "execution_count": null,
   "metadata": {},
   "outputs": [],
   "source": [
    "my_dog = Dog(\"lillflatan\")\n",
    "print(f\"{hasattr(my_dog, 'name') = }\")\n",
    "print(f\"{hasattr(my_dog, 'bark') = }\")\n",
    "print(f\"{hasattr(my_dog, 'age') = }\")\n",
    "print(f\"{hasattr(my_dog, '__init__') = }\")\n",
    "print(f\"{hasattr(my_dog, '__dict__') = }\")\n",
    "\n",
    "\n",
    "\n",
    "\n",
    "\n"
   ]
  },
  {
   "cell_type": "code",
   "execution_count": null,
   "metadata": {},
   "outputs": [],
   "source": [
    "class Robot:\n",
    "    def __init__(self):\n",
    "        name = \"otitlad robot\"\n",
    "    \n",
    "\n",
    "my_robot = Robot()\n",
    "print(my_robot)"
   ]
  }
 ],
 "metadata": {
  "kernelspec": {
   "display_name": "python_max_farnstrom-X2dyWug9",
   "language": "python",
   "name": "python3"
  },
  "language_info": {
   "codemirror_mode": {
    "name": "ipython",
    "version": 3
   },
   "file_extension": ".py",
   "mimetype": "text/x-python",
   "name": "python",
   "nbconvert_exporter": "python",
   "pygments_lexer": "ipython3",
   "version": "3.11.6"
  },
  "orig_nbformat": 4
 },
 "nbformat": 4,
 "nbformat_minor": 2
}
