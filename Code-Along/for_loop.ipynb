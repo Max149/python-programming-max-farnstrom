{
 "cells": [
  {
   "cell_type": "markdown",
   "metadata": {},
   "source": [
    "# For loops\n",
    "- a for loop is uded for iterating over a sequence\n",
    "- This is less like the for keyword in other programming languages, and works more like an iterator as found i other object-oriented programming"
   ]
  },
  {
   "cell_type": "code",
   "execution_count": null,
   "metadata": {},
   "outputs": [],
   "source": [
    "# Example: Iterating over the items in a list:\n",
    "names = [\"Max\", \"verra\", \"Mackan\"]\n",
    "\n",
    "for name in names:\n",
    "    print(name)\n",
    "\n",
    "\n",
    "\n",
    "\n"
   ]
  },
  {
   "cell_type": "code",
   "execution_count": null,
   "metadata": {},
   "outputs": [],
   "source": [
    "# Example 2, iterating over a range\n",
    "\n",
    "print(\"using only stop value\")\n",
    "for i in range(3):\n",
    "    print(i)\n",
    "\n",
    "print(\"using start and stop values: \")\n",
    "for i in range(10, 12):\n",
    "    print(i)\n",
    "\n",
    "print(\"using start and step values: \")\n",
    "for i in range(10, 20, 2):\n",
    "    print(i)\n",
    "\n",
    "print(\"can also count reversed using a negative step value: \")\n",
    "for i in range(20, 10, -3):\n",
    "    print(i)"
   ]
  },
  {
   "cell_type": "markdown",
   "metadata": {},
   "source": [
    "like while loops, for loops can also use these statements:\n",
    "- contine\n",
    "- break\n",
    "- else\n"
   ]
  },
  {
   "cell_type": "markdown",
   "metadata": {},
   "source": [
    "nested loops\n",
    "- a loop within a loop"
   ]
  },
  {
   "cell_type": "code",
   "execution_count": null,
   "metadata": {},
   "outputs": [],
   "source": [
    "for y in range(3):\n",
    "    for x in range(5):\n",
    "        print(x, end=\"\")\n",
    "    print()\n"
   ]
  }
 ],
 "metadata": {
  "language_info": {
   "name": "python"
  },
  "orig_nbformat": 4
 },
 "nbformat": 4,
 "nbformat_minor": 2
}
