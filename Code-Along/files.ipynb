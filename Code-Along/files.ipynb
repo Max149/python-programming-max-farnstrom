{
 "cells": [
  {
   "cell_type": "markdown",
   "metadata": {},
   "source": [
    "# Load and save data to Files\n",
    "\n",
    "we can categorize files in 2 main categories, text files and binary files.\n",
    "- text files stores text\n",
    "- binary files stores byte data that only the computer understands\n",
    "\n",
    "## Common text based files to store data\n",
    "- **.txt** Plain english text\n",
    "- **.csv** comma seperated values\n",
    "- **.json** \n",
    "\n",
    "## File names and file paths\n",
    "\n",
    "A file name usually has two parts, and the file extention, separated with a dot (name.extension)\n",
    "\n",
    "e.g. hello.txt data.json myimage.jpg\n",
    "\n",
    "paths can be expressed as either relative or absolute\n",
    "**Absolute** full path to access a file or folder, ex. c:\\user\\max\\desktop\\myfile.txt\n",
    "**Relative** Relative from the current active folder: data\\data.json\n",
    "\n",
    "## file modes\n",
    "Its possible to open python in different modes:\n",
    "**\"r\"** for reading\n",
    "**\"w\"** for writing\n",
    "**\"a\"** for appending\n",
    "\n"
   ]
  },
  {
   "cell_type": "markdown",
   "metadata": {},
   "source": [
    "## Open file for reading"
   ]
  },
  {
   "cell_type": "code",
   "execution_count": null,
   "metadata": {},
   "outputs": [],
   "source": [
    "file = open(\"..\\data\\hello.txt\")\n",
    "\n",
    "content = file.read()\n",
    "\n",
    "print(content)\n",
    "\n",
    "file.close()"
   ]
  },
  {
   "cell_type": "markdown",
   "metadata": {},
   "source": [
    "## Open with context manager"
   ]
  },
  {
   "cell_type": "code",
   "execution_count": null,
   "metadata": {},
   "outputs": [],
   "source": [
    "with open(\"..\\data\\hello.txt\") as file:\n",
    "    content = file.read()\n",
    "    print(content)\n",
    " "
   ]
  },
  {
   "cell_type": "markdown",
   "metadata": {},
   "source": [
    "## Open file for writing"
   ]
  },
  {
   "cell_type": "code",
   "execution_count": null,
   "metadata": {},
   "outputs": [],
   "source": [
    "new_content = input(\"New content: \")\n",
    "\n",
    "with open(\"..\\data\\hello.txt\", \"w\") as file:\n",
    "    file.write(new_content + \"\\n\")\n",
    "\n"
   ]
  },
  {
   "cell_type": "markdown",
   "metadata": {},
   "source": [
    "## uppgift\n",
    "Skapa program som har en tom lista. När programmer körs får användaren mata in namn i en loop till man matar in en tom rad. när den är klar så ska den skriva ut alla namn på skärmen, samt sparas till en fil, nästa gång du startar program så läser den in de befintliga namnen. "
   ]
  },
  {
   "cell_type": "code",
   "execution_count": 12,
   "metadata": {},
   "outputs": [
    {
     "name": "stdout",
     "output_type": "stream",
     "text": [
      "names: \n",
      "hej\n"
     ]
    },
    {
     "ename": "FileNotFoundError",
     "evalue": "[Errno 2] No such file or directory: '.\\\\data\\\\test.txt'",
     "output_type": "error",
     "traceback": [
      "\u001b[1;31m---------------------------------------------------------------------------\u001b[0m",
      "\u001b[1;31mFileNotFoundError\u001b[0m                         Traceback (most recent call last)",
      "\u001b[1;32mc:\\Users\\MaxF�rsntr�m-AI23GBG\\Documents\\github\\python_max_farnstrom\\Code-Along\\files.ipynb Cell 9\u001b[0m line \u001b[0;36m1\n\u001b[0;32m     <a href='vscode-notebook-cell:/c%3A/Users/MaxF%EF%BF%BDrsntr%EF%BF%BDm-AI23GBG/Documents/github/python_max_farnstrom/Code-Along/files.ipynb#X14sZmlsZQ%3D%3D?line=9'>10</a>\u001b[0m \u001b[39mfor\u001b[39;00m Enter_name \u001b[39min\u001b[39;00m Enter_names:\n\u001b[0;32m     <a href='vscode-notebook-cell:/c%3A/Users/MaxF%EF%BF%BDrsntr%EF%BF%BDm-AI23GBG/Documents/github/python_max_farnstrom/Code-Along/files.ipynb#X14sZmlsZQ%3D%3D?line=10'>11</a>\u001b[0m     \u001b[39mprint\u001b[39m(Enter_name)\n\u001b[1;32m---> <a href='vscode-notebook-cell:/c%3A/Users/MaxF%EF%BF%BDrsntr%EF%BF%BDm-AI23GBG/Documents/github/python_max_farnstrom/Code-Along/files.ipynb#X14sZmlsZQ%3D%3D?line=12'>13</a>\u001b[0m \u001b[39mwith\u001b[39;00m \u001b[39mopen\u001b[39;49m(\u001b[39m\"\u001b[39;49m\u001b[39m.\u001b[39;49m\u001b[39m\\\\\u001b[39;49;00m\u001b[39mdata\u001b[39;49m\u001b[39m\\\\\u001b[39;49;00m\u001b[39mtest.txt\u001b[39;49m\u001b[39m\"\u001b[39;49m, \u001b[39m\"\u001b[39;49m\u001b[39mw\u001b[39;49m\u001b[39m\"\u001b[39;49m) \u001b[39mas\u001b[39;00m input_file:\n\u001b[0;32m     <a href='vscode-notebook-cell:/c%3A/Users/MaxF%EF%BF%BDrsntr%EF%BF%BDm-AI23GBG/Documents/github/python_max_farnstrom/Code-Along/files.ipynb#X14sZmlsZQ%3D%3D?line=13'>14</a>\u001b[0m     input_file\u001b[39m.\u001b[39mwrite(content)\n\u001b[0;32m     <a href='vscode-notebook-cell:/c%3A/Users/MaxF%EF%BF%BDrsntr%EF%BF%BDm-AI23GBG/Documents/github/python_max_farnstrom/Code-Along/files.ipynb#X14sZmlsZQ%3D%3D?line=15'>16</a>\u001b[0m \u001b[39mprint\u001b[39m(\u001b[39m\"\u001b[39m\u001b[39mTexten har kopierats till \u001b[39m\u001b[39m'\u001b[39m\u001b[39moutput.txt\u001b[39m\u001b[39m'\u001b[39m\u001b[39m.\u001b[39m\u001b[39m\"\u001b[39m)\n",
      "File \u001b[1;32mc:\\Users\\MaxF�rsntr�m-AI23GBG\\.virtualenvs\\python_max_farnstrom-X2dyWug9\\Lib\\site-packages\\IPython\\core\\interactiveshell.py:286\u001b[0m, in \u001b[0;36m_modified_open\u001b[1;34m(file, *args, **kwargs)\u001b[0m\n\u001b[0;32m    279\u001b[0m \u001b[39mif\u001b[39;00m file \u001b[39min\u001b[39;00m {\u001b[39m0\u001b[39m, \u001b[39m1\u001b[39m, \u001b[39m2\u001b[39m}:\n\u001b[0;32m    280\u001b[0m     \u001b[39mraise\u001b[39;00m \u001b[39mValueError\u001b[39;00m(\n\u001b[0;32m    281\u001b[0m         \u001b[39mf\u001b[39m\u001b[39m\"\u001b[39m\u001b[39mIPython won\u001b[39m\u001b[39m'\u001b[39m\u001b[39mt let you open fd=\u001b[39m\u001b[39m{\u001b[39;00mfile\u001b[39m}\u001b[39;00m\u001b[39m by default \u001b[39m\u001b[39m\"\u001b[39m\n\u001b[0;32m    282\u001b[0m         \u001b[39m\"\u001b[39m\u001b[39mas it is likely to crash IPython. If you know what you are doing, \u001b[39m\u001b[39m\"\u001b[39m\n\u001b[0;32m    283\u001b[0m         \u001b[39m\"\u001b[39m\u001b[39myou can use builtins\u001b[39m\u001b[39m'\u001b[39m\u001b[39m open.\u001b[39m\u001b[39m\"\u001b[39m\n\u001b[0;32m    284\u001b[0m     )\n\u001b[1;32m--> 286\u001b[0m \u001b[39mreturn\u001b[39;00m io_open(file, \u001b[39m*\u001b[39;49margs, \u001b[39m*\u001b[39;49m\u001b[39m*\u001b[39;49mkwargs)\n",
      "\u001b[1;31mFileNotFoundError\u001b[0m: [Errno 2] No such file or directory: '.\\\\data\\\\test.txt'"
     ]
    }
   ],
   "source": [
    "Enter_names = []\n",
    "\n",
    "while True:\n",
    "    Enter_name = input(\"Skriv namn här: \")\n",
    "    if not Enter_name: break\n",
    "    Enter_names.append(Enter_name)\n",
    "\n",
    "print(\"names: \")\n",
    "\n",
    "for Enter_name in Enter_names:\n",
    "    print(Enter_name)\n",
    "\n",
    "with open(\".\\\\data\\\\test.txt\", \"w\") as input_file:\n",
    "    input_file.write(content)\n",
    "\n",
    "print(\"Texten har kopierats till 'output.txt'.\")\n"
   ]
  },
  {
   "cell_type": "markdown",
   "metadata": {},
   "source": [
    "## write .csv file"
   ]
  },
  {
   "cell_type": "code",
   "execution_count": 15,
   "metadata": {},
   "outputs": [
    {
     "name": "stdout",
     "output_type": "stream",
     "text": [
      "[{'name': 'adam', 'AI23email': 'adam@gmail.com'}, {'name': 'adam', 'AI23email': 'adam@gmail.com'}, {'name': 'adam', 'AI23email': 'adam@gmail.com'}]\n"
     ]
    },
    {
     "ename": "FileNotFoundError",
     "evalue": "[Errno 2] No such file or directory: '..\\\\data\\\\students.csv'",
     "output_type": "error",
     "traceback": [
      "\u001b[1;31m---------------------------------------------------------------------------\u001b[0m",
      "\u001b[1;31mFileNotFoundError\u001b[0m                         Traceback (most recent call last)",
      "\u001b[1;32mc:\\Users\\MaxF�rsntr�m-AI23GBG\\Documents\\github\\python_max_farnstrom\\Code-Along\\files.ipynb Cell 11\u001b[0m line \u001b[0;36m9\n\u001b[0;32m      <a href='vscode-notebook-cell:/c%3A/Users/MaxF%EF%BF%BDrsntr%EF%BF%BDm-AI23GBG/Documents/github/python_max_farnstrom/Code-Along/files.ipynb#X16sZmlsZQ%3D%3D?line=0'>1</a>\u001b[0m students \u001b[39m=\u001b[39m [\n\u001b[0;32m      <a href='vscode-notebook-cell:/c%3A/Users/MaxF%EF%BF%BDrsntr%EF%BF%BDm-AI23GBG/Documents/github/python_max_farnstrom/Code-Along/files.ipynb#X16sZmlsZQ%3D%3D?line=1'>2</a>\u001b[0m     {\u001b[39m\"\u001b[39m\u001b[39mname\u001b[39m\u001b[39m\"\u001b[39m: \u001b[39m\"\u001b[39m\u001b[39madam\u001b[39m\u001b[39m\"\u001b[39m, \u001b[39m\"\u001b[39m\u001b[39mAI23\u001b[39m\u001b[39m\"\u001b[39m \u001b[39m\"\u001b[39m\u001b[39memail\u001b[39m\u001b[39m\"\u001b[39m: \u001b[39m\"\u001b[39m\u001b[39madam@gmail.com\u001b[39m\u001b[39m\"\u001b[39m},\n\u001b[0;32m      <a href='vscode-notebook-cell:/c%3A/Users/MaxF%EF%BF%BDrsntr%EF%BF%BDm-AI23GBG/Documents/github/python_max_farnstrom/Code-Along/files.ipynb#X16sZmlsZQ%3D%3D?line=2'>3</a>\u001b[0m     {\u001b[39m\"\u001b[39m\u001b[39mname\u001b[39m\u001b[39m\"\u001b[39m: \u001b[39m\"\u001b[39m\u001b[39madam\u001b[39m\u001b[39m\"\u001b[39m, \u001b[39m\"\u001b[39m\u001b[39mAI23\u001b[39m\u001b[39m\"\u001b[39m \u001b[39m\"\u001b[39m\u001b[39memail\u001b[39m\u001b[39m\"\u001b[39m: \u001b[39m\"\u001b[39m\u001b[39madam@gmail.com\u001b[39m\u001b[39m\"\u001b[39m},\n\u001b[0;32m      <a href='vscode-notebook-cell:/c%3A/Users/MaxF%EF%BF%BDrsntr%EF%BF%BDm-AI23GBG/Documents/github/python_max_farnstrom/Code-Along/files.ipynb#X16sZmlsZQ%3D%3D?line=3'>4</a>\u001b[0m     {\u001b[39m\"\u001b[39m\u001b[39mname\u001b[39m\u001b[39m\"\u001b[39m: \u001b[39m\"\u001b[39m\u001b[39madam\u001b[39m\u001b[39m\"\u001b[39m, \u001b[39m\"\u001b[39m\u001b[39mAI23\u001b[39m\u001b[39m\"\u001b[39m \u001b[39m\"\u001b[39m\u001b[39memail\u001b[39m\u001b[39m\"\u001b[39m: \u001b[39m\"\u001b[39m\u001b[39madam@gmail.com\u001b[39m\u001b[39m\"\u001b[39m},\n\u001b[0;32m      <a href='vscode-notebook-cell:/c%3A/Users/MaxF%EF%BF%BDrsntr%EF%BF%BDm-AI23GBG/Documents/github/python_max_farnstrom/Code-Along/files.ipynb#X16sZmlsZQ%3D%3D?line=4'>5</a>\u001b[0m ]\n\u001b[0;32m      <a href='vscode-notebook-cell:/c%3A/Users/MaxF%EF%BF%BDrsntr%EF%BF%BDm-AI23GBG/Documents/github/python_max_farnstrom/Code-Along/files.ipynb#X16sZmlsZQ%3D%3D?line=6'>7</a>\u001b[0m \u001b[39mprint\u001b[39m(students)\n\u001b[1;32m----> <a href='vscode-notebook-cell:/c%3A/Users/MaxF%EF%BF%BDrsntr%EF%BF%BDm-AI23GBG/Documents/github/python_max_farnstrom/Code-Along/files.ipynb#X16sZmlsZQ%3D%3D?line=8'>9</a>\u001b[0m \u001b[39mwith\u001b[39;00m \u001b[39mopen\u001b[39;49m(\u001b[39m\"\u001b[39;49m\u001b[39m..\u001b[39;49m\u001b[39m\\\\\u001b[39;49;00m\u001b[39mdata\u001b[39;49m\u001b[39m\\\\\u001b[39;49;00m\u001b[39mstudents.csv\u001b[39;49m\u001b[39m\"\u001b[39;49m, \u001b[39m\"\u001b[39;49m\u001b[39mw\u001b[39;49m\u001b[39m\"\u001b[39;49m) \u001b[39mas\u001b[39;00m file:\n\u001b[0;32m     <a href='vscode-notebook-cell:/c%3A/Users/MaxF%EF%BF%BDrsntr%EF%BF%BDm-AI23GBG/Documents/github/python_max_farnstrom/Code-Along/files.ipynb#X16sZmlsZQ%3D%3D?line=9'>10</a>\u001b[0m     \u001b[39mfor\u001b[39;00m student \u001b[39min\u001b[39;00m students:\n\u001b[0;32m     <a href='vscode-notebook-cell:/c%3A/Users/MaxF%EF%BF%BDrsntr%EF%BF%BDm-AI23GBG/Documents/github/python_max_farnstrom/Code-Along/files.ipynb#X16sZmlsZQ%3D%3D?line=10'>11</a>\u001b[0m         \u001b[39mprint\u001b[39m(student)\n",
      "File \u001b[1;32mc:\\Users\\MaxF�rsntr�m-AI23GBG\\.virtualenvs\\python_max_farnstrom-X2dyWug9\\Lib\\site-packages\\IPython\\core\\interactiveshell.py:286\u001b[0m, in \u001b[0;36m_modified_open\u001b[1;34m(file, *args, **kwargs)\u001b[0m\n\u001b[0;32m    279\u001b[0m \u001b[39mif\u001b[39;00m file \u001b[39min\u001b[39;00m {\u001b[39m0\u001b[39m, \u001b[39m1\u001b[39m, \u001b[39m2\u001b[39m}:\n\u001b[0;32m    280\u001b[0m     \u001b[39mraise\u001b[39;00m \u001b[39mValueError\u001b[39;00m(\n\u001b[0;32m    281\u001b[0m         \u001b[39mf\u001b[39m\u001b[39m\"\u001b[39m\u001b[39mIPython won\u001b[39m\u001b[39m'\u001b[39m\u001b[39mt let you open fd=\u001b[39m\u001b[39m{\u001b[39;00mfile\u001b[39m}\u001b[39;00m\u001b[39m by default \u001b[39m\u001b[39m\"\u001b[39m\n\u001b[0;32m    282\u001b[0m         \u001b[39m\"\u001b[39m\u001b[39mas it is likely to crash IPython. If you know what you are doing, \u001b[39m\u001b[39m\"\u001b[39m\n\u001b[0;32m    283\u001b[0m         \u001b[39m\"\u001b[39m\u001b[39myou can use builtins\u001b[39m\u001b[39m'\u001b[39m\u001b[39m open.\u001b[39m\u001b[39m\"\u001b[39m\n\u001b[0;32m    284\u001b[0m     )\n\u001b[1;32m--> 286\u001b[0m \u001b[39mreturn\u001b[39;00m io_open(file, \u001b[39m*\u001b[39;49margs, \u001b[39m*\u001b[39;49m\u001b[39m*\u001b[39;49mkwargs)\n",
      "\u001b[1;31mFileNotFoundError\u001b[0m: [Errno 2] No such file or directory: '..\\\\data\\\\students.csv'"
     ]
    }
   ],
   "source": [
    "students = [\n",
    "    {\"name\": \"adam\", \"class\": \"AI\", \"email\": \"adam@gmail.com\"},\n",
    "    {\"name\": \"adam\", \"calls\": \"AI\", \"email\": \"adam@gmail.com\"},\n",
    "    {\"name\": \"adam\", \"Class\": \"AI\", \"email\": \"adam@gmail.com\"},\n",
    "]\n",
    "\n",
    "print(students)\n",
    "\n",
    "with open(\"..\\\\data\\\\students.csv\", \"w\") as file:\n",
    "    for student in students:\n",
    "        print(student)\n",
    "        file.write(f\"{student[\"name\"]}, {student[\"class\"]}, {student[\"email\"]}\\n\")\n"
   ]
  },
  {
   "cell_type": "markdown",
   "metadata": {},
   "source": [
    "## Using csv package"
   ]
  },
  {
   "cell_type": "code",
   "execution_count": 22,
   "metadata": {},
   "outputs": [
    {
     "name": "stdout",
     "output_type": "stream",
     "text": [
      "[]\n"
     ]
    }
   ],
   "source": [
    "import csv\n",
    "\n",
    "student = []\n",
    "\n",
    "with open(\"..\\\\demo\\\\student.csv\") as file:\n",
    "    reader = csv.DictReader(file)\n",
    "\n",
    "    for row in reader:\n",
    "        \n",
    "        student.append({\"name\": row[\"name\"], \"class\": row[\"class\"], \"email\": row[\"email\"]})\n",
    "\n",
    "print(student)\n",
    "\n"
   ]
  },
  {
   "cell_type": "markdown",
   "metadata": {},
   "source": [
    "## Json serialization and deserialazation"
   ]
  },
  {
   "cell_type": "code",
   "execution_count": 28,
   "metadata": {},
   "outputs": [],
   "source": [
    "import json\n",
    "\n",
    "teacher = {\n",
    "    \"firstname\": \"Max\", \n",
    "    \"lastname\": \"Farnstrom\", \n",
    "    \"age\": 42,\n",
    "    \"Languages\": [\"Python\"],\n",
    "    \"contactinfo\": {\n",
    "        \"phone\": \"070989898\",\n",
    "        \"email\": [\n",
    "            \"bala.apa@gmail.com\",\n",
    "         \n",
    "        ]\n",
    "    }\n",
    "}\n",
    "\n",
    "serialized_data = json.dumps(teacher, indent=4)\n",
    "\n",
    "#print(serialized_data)\n",
    "\n",
    "with open(\"..\\\\demo\\\\teacher.json\", \"w\") as file:\n",
    "    file.write(serialized_data)"
   ]
  },
  {
   "cell_type": "code",
   "execution_count": 29,
   "metadata": {},
   "outputs": [
    {
     "ename": "UnsupportedOperation",
     "evalue": "not readable",
     "output_type": "error",
     "traceback": [
      "\u001b[1;31m---------------------------------------------------------------------------\u001b[0m",
      "\u001b[1;31mUnsupportedOperation\u001b[0m                      Traceback (most recent call last)",
      "\u001b[1;32mc:\\Users\\MaxF�rsntr�m-AI23GBG\\Documents\\github\\python_max_farnstrom\\Code-Along\\files.ipynb Cell 16\u001b[0m line \u001b[0;36m2\n\u001b[0;32m      <a href='vscode-notebook-cell:/c%3A/Users/MaxF%EF%BF%BDrsntr%EF%BF%BDm-AI23GBG/Documents/github/python_max_farnstrom/Code-Along/files.ipynb#X26sZmlsZQ%3D%3D?line=0'>1</a>\u001b[0m \u001b[39mwith\u001b[39;00m \u001b[39mopen\u001b[39m(\u001b[39m\"\u001b[39m\u001b[39m..\u001b[39m\u001b[39m\\\\\u001b[39;00m\u001b[39mdemo\u001b[39m\u001b[39m\\\\\u001b[39;00m\u001b[39mteacher.json\u001b[39m\u001b[39m\"\u001b[39m, \u001b[39m\"\u001b[39m\u001b[39mw\u001b[39m\u001b[39m\"\u001b[39m) \u001b[39mas\u001b[39;00m file:\n\u001b[1;32m----> <a href='vscode-notebook-cell:/c%3A/Users/MaxF%EF%BF%BDrsntr%EF%BF%BDm-AI23GBG/Documents/github/python_max_farnstrom/Code-Along/files.ipynb#X26sZmlsZQ%3D%3D?line=1'>2</a>\u001b[0m     data \u001b[39m=\u001b[39m file\u001b[39m.\u001b[39;49mread()\n\u001b[0;32m      <a href='vscode-notebook-cell:/c%3A/Users/MaxF%EF%BF%BDrsntr%EF%BF%BDm-AI23GBG/Documents/github/python_max_farnstrom/Code-Along/files.ipynb#X26sZmlsZQ%3D%3D?line=3'>4</a>\u001b[0m teacher \u001b[39m=\u001b[39m json\u001b[39m.\u001b[39mloads(data)\n\u001b[0;32m      <a href='vscode-notebook-cell:/c%3A/Users/MaxF%EF%BF%BDrsntr%EF%BF%BDm-AI23GBG/Documents/github/python_max_farnstrom/Code-Along/files.ipynb#X26sZmlsZQ%3D%3D?line=5'>6</a>\u001b[0m \u001b[39mprint\u001b[39m(teacher)\n",
      "\u001b[1;31mUnsupportedOperation\u001b[0m: not readable"
     ]
    }
   ],
   "source": [
    "with open(\"..\\\\demo\\\\teacher.json\", \"w\") as file:\n",
    "    data = file.read()\n",
    "\n",
    "teacher = json.loads(data)\n",
    "\n",
    "print(teacher)"
   ]
  }
 ],
 "metadata": {
  "kernelspec": {
   "display_name": "python_max_farnstrom-X2dyWug9",
   "language": "python",
   "name": "python3"
  },
  "language_info": {
   "codemirror_mode": {
    "name": "ipython",
    "version": 3
   },
   "file_extension": ".py",
   "mimetype": "text/x-python",
   "name": "python",
   "nbconvert_exporter": "python",
   "pygments_lexer": "ipython3",
   "version": "3.11.5"
  },
  "orig_nbformat": 4
 },
 "nbformat": 4,
 "nbformat_minor": 2
}
