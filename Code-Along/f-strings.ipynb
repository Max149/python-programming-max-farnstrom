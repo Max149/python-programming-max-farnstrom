{
 "cells": [
  {
   "cell_type": "markdown",
   "metadata": {},
   "source": [
    "# f-string\n",
    "literal starts with f or F.\n",
    "- variables or expressions can be inserted using ()\n",
    "use - after expression to print expression and result(not only result)\n",
    "quotes can be used inside expression as long as they differ from the quotetype of the f-string\n",
    "- for padding and alignement, use :(padding character)(width)(alignment)\n",
    "- alli\n",
    "- Data type: add data typr after padding and allignment eg: x:<20.2f\n",
    "- data type formats: fixed point notation (f), exponent notation (e)\n",
    "- Use comma for thousand seperation eg: (1000:,) or (1000:,.2f)\n",
    "\n"
   ]
  },
  {
   "cell_type": "code",
   "execution_count": null,
   "metadata": {},
   "outputs": [],
   "source": [
    "name = input(\"enter your name: \")\n",
    "myString = f\"Hello {name.upper}!\"\n",
    "print(myString)\n",
    "\n",
    "print(f\"(5+8=)\")\n",
    "\n",
    "print(f\"hej Max .\")\n",
    "\n",
    "print(f\"{0.78:.2f}\")\n",
    "print(f\"{0.78:.3e}\")\n",
    "print(f\"{0.78:.%}\")\n",
    "print(f\"{1000000:,.2%}\")\n"
   ]
  },
  {
   "cell_type": "code",
   "execution_count": null,
   "metadata": {},
   "outputs": [],
   "source": [
    "firsname = \"Max\"\n",
    "Last_name = \"farna\"\n",
    "\n",
    "print(f\"(\"firstame\":20)(Last_name)\")\n",
    "print(f\"(firstname:^20)(Last_name)\")"
   ]
  }
 ],
 "metadata": {
  "language_info": {
   "name": "python"
  },
  "orig_nbformat": 4
 },
 "nbformat": 4,
 "nbformat_minor": 2
}
