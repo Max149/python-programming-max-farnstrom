{
 "cells": [
  {
   "cell_type": "markdown",
   "metadata": {},
   "source": [
    "# Loops \n",
    "Python has two primitive loop commands:\n",
    "- while loops\n",
    "- for loops\n"
   ]
  },
  {
   "cell_type": "markdown",
   "metadata": {},
   "source": [
    "# The while loop\n",
    "- Exucutes a set of statements as long as a condition is true"
   ]
  },
  {
   "cell_type": "code",
   "execution_count": null,
   "metadata": {},
   "outputs": [],
   "source": [
    "counter = 10\n",
    "\n",
    "while counter > 0:\n",
    "    print(f\"{counter:2d}: Hello World\")\n",
    "    counter -= 1\n",
    "\n",
    "print(\"End.\")"
   ]
  },
  {
   "cell_type": "markdown",
   "metadata": {},
   "source": [
    "# The break statement\n",
    "- used to stop loop"
   ]
  },
  {
   "cell_type": "code",
   "execution_count": null,
   "metadata": {},
   "outputs": [],
   "source": [
    "counter = 10\n",
    "\n",
    "while True:\n",
    "    print(f\"{counter:2d}: Hello World\")\n",
    "    counter -= 1\n",
    "    if counter <= 0: break\n",
    "    \n",
    "\n",
    "print(\"End.\")"
   ]
  },
  {
   "cell_type": "markdown",
   "metadata": {},
   "source": [
    "# The continue statement\n",
    "- used to stop current iteration of the loop, and continue with the next"
   ]
  },
  {
   "cell_type": "code",
   "execution_count": null,
   "metadata": {},
   "outputs": [],
   "source": [
    "counter = 0\n",
    "while counter < 5:\n",
    "    counter += 1\n",
    "    print(f\"{counter}: print this\")\n",
    "    if (counter < 3): continue\n",
    "    print(\"dont print this\")\n",
    "\n",
    "print(\"End.\")\n"
   ]
  },
  {
   "cell_type": "markdown",
   "metadata": {},
   "source": [
    "## the else statement\n",
    "- used to specify a block of code when the loop is finished\n",
    "**Note:** The else block will not be executed if the loop isstopped by a break"
   ]
  },
  {
   "cell_type": "code",
   "execution_count": null,
   "metadata": {},
   "outputs": [],
   "source": [
    "counter = 10\n",
    "\n",
    "while counter > 0:\n",
    "    print(f\"{counter:2d}: Hello World\")\n",
    "    counter -= 2\n",
    "    break\n",
    "else:\n",
    "    print(\"End.\")"
   ]
  }
 ],
 "metadata": {
  "language_info": {
   "name": "python"
  },
  "orig_nbformat": 4
 },
 "nbformat": 4,
 "nbformat_minor": 2
}
