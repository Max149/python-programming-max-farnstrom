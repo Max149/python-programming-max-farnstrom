{
 "cells": [
  {
   "cell_type": "markdown",
   "metadata": {},
   "source": [
    "List"
   ]
  },
  {
   "cell_type": "code",
   "execution_count": null,
   "metadata": {},
   "outputs": [
    {
     "ename": "",
     "evalue": "",
     "output_type": "error",
     "traceback": [
      "\u001b[1;31mRunning cells with 'c:\\Users\\MaxF�rsntr�m-AI23GBG\\AppData\\Local\\Microsoft\\WindowsApps\\python3.11.exe' requires the ipykernel package.\n",
      "\u001b[1;31mRun the following command to install 'ipykernel' into the Python environment. \n",
      "\u001b[1;31mCommand: 'c:/Users/MaxF�rsntr�m-AI23GBG/AppData/Local/Microsoft/WindowsApps/python3.11.exe -m pip install ipykernel -U --user --force-reinstall'"
     ]
    }
   ],
   "source": [
    "Fruit = [\"apple, banana, pinapple\"]\n",
    "\n",
    "print(Fruit)\n",
    "\n",
    "Fruit2 = [\"kiwi, melon, dragonfruit\", 5 [6, 7, 8] , True 4.5]\n",
    "\n",
    "Fruit.append(\"melon\")\n",
    "print(f\"{Fruit = }\")\n",
    "\n",
    "Fruit.count\n"
   ]
  },
  {
   "cell_type": "code",
   "execution_count": null,
   "metadata": {},
   "outputs": [],
   "source": [
    "# Indexering och slicing, få ut en specifik frukt i listan och ett antal i lista\n",
    "\n",
    "print(f\"{Fruit[0] = }\")\n",
    "print(f\"{Fruit[3] = }\")\n",
    "print(f\"{Fruit[2:5] = }\")\n"
   ]
  },
  {
   "cell_type": "code",
   "execution_count": null,
   "metadata": {},
   "outputs": [],
   "source": [
    "# Loopa igenom lista\n",
    "\n",
    "for Fruit in Fruit:\n",
    "    print(Fruit)"
   ]
  },
  {
   "cell_type": "code",
   "execution_count": null,
   "metadata": {},
   "outputs": [],
   "source": [
    "# List comprehension\n",
    "\n",
    "x = list(range(10))\n",
    "print(f\"{x = }\")\n",
    "\n",
    "y = [item*2 for item in x]\n",
    "print(f\"{y = }\")"
   ]
  }
 ],
 "metadata": {
  "kernelspec": {
   "display_name": "Python 3",
   "language": "python",
   "name": "python3"
  },
  "language_info": {
   "name": "python",
   "version": "3.11.5"
  },
  "orig_nbformat": 4
 },
 "nbformat": 4,
 "nbformat_minor": 2
}
