{
 "cells": [
  {
   "cell_type": "markdown",
   "metadata": {},
   "source": [
    "# Dunder methods (double underscore __)\n",
    "\n",
    "__init__ called when a new a new object instance is created.  purpose is to initialize object"
   ]
  },
  {
   "cell_type": "code",
   "execution_count": 10,
   "metadata": {},
   "outputs": [
    {
     "ename": "TypeError",
     "evalue": "__str__ returned non-string (type set)",
     "output_type": "error",
     "traceback": [
      "\u001b[1;31m---------------------------------------------------------------------------\u001b[0m",
      "\u001b[1;31mTypeError\u001b[0m                                 Traceback (most recent call last)",
      "\u001b[1;32mc:\\Users\\MaxF�rsntr�m-AI23GBG\\Documents\\github\\python_max_farnstrom\\Code-Along\\dunder_methods.ipynb Cell 2\u001b[0m line \u001b[0;36m1\n\u001b[0;32m     <a href='vscode-notebook-cell:/c%3A/Users/MaxF%EF%BF%BDrsntr%EF%BF%BDm-AI23GBG/Documents/github/python_max_farnstrom/Code-Along/dunder_methods.ipynb#W2sZmlsZQ%3D%3D?line=11'>12</a>\u001b[0m my_int \u001b[39m=\u001b[39m \u001b[39m5\u001b[39m\n\u001b[0;32m     <a href='vscode-notebook-cell:/c%3A/Users/MaxF%EF%BF%BDrsntr%EF%BF%BDm-AI23GBG/Documents/github/python_max_farnstrom/Code-Along/dunder_methods.ipynb#W2sZmlsZQ%3D%3D?line=12'>13</a>\u001b[0m my_bool \u001b[39m=\u001b[39m \u001b[39mTrue\u001b[39;00m\n\u001b[1;32m---> <a href='vscode-notebook-cell:/c%3A/Users/MaxF%EF%BF%BDrsntr%EF%BF%BDm-AI23GBG/Documents/github/python_max_farnstrom/Code-Along/dunder_methods.ipynb#W2sZmlsZQ%3D%3D?line=13'>14</a>\u001b[0m my_string \u001b[39m=\u001b[39m \u001b[39mstr\u001b[39;49m(my_cat)\n\u001b[0;32m     <a href='vscode-notebook-cell:/c%3A/Users/MaxF%EF%BF%BDrsntr%EF%BF%BDm-AI23GBG/Documents/github/python_max_farnstrom/Code-Along/dunder_methods.ipynb#W2sZmlsZQ%3D%3D?line=15'>16</a>\u001b[0m \u001b[39mprint\u001b[39m(\u001b[39mf\u001b[39m\u001b[39m\"\u001b[39m\u001b[39mmy cat = \u001b[39m\u001b[39m{\u001b[39;00mmy_cat\u001b[39m}\u001b[39;00m\u001b[39m\"\u001b[39m)\n\u001b[0;32m     <a href='vscode-notebook-cell:/c%3A/Users/MaxF%EF%BF%BDrsntr%EF%BF%BDm-AI23GBG/Documents/github/python_max_farnstrom/Code-Along/dunder_methods.ipynb#W2sZmlsZQ%3D%3D?line=16'>17</a>\u001b[0m \u001b[39mprint\u001b[39m(\u001b[39mrepr\u001b[39m(my_cat))\n",
      "\u001b[1;31mTypeError\u001b[0m: __str__ returned non-string (type set)"
     ]
    }
   ],
   "source": [
    "class Cat:\n",
    "    def __init__(self, name):\n",
    "        self.name = name\n",
    "\n",
    "    def __str__(self):\n",
    "        return {self.name}\n",
    "\n",
    "    def __repr__(self):\n",
    "        return f'Cat(\"{self.name}\")'\n",
    "\n",
    "my_cat = Cat(\"Mjau\")\n",
    "my_int = 5\n",
    "my_bool = True\n",
    "my_string = str(my_cat)\n",
    "\n",
    "print(f\"my cat = {my_cat}\")\n",
    "print(repr(my_cat))"
   ]
  },
  {
   "cell_type": "code",
   "execution_count": null,
   "metadata": {},
   "outputs": [],
   "source": [
    "x = 5\n",
    "eval(\"print(x)\")"
   ]
  },
  {
   "cell_type": "code",
   "execution_count": null,
   "metadata": {},
   "outputs": [],
   "source": [
    "my_cat = Cat(\"Mjau\")\n",
    "print(repr(my_cat))\n",
    "eval(\"'hello[0]\")\n",
    "copycat = eval(repr(my_cat))\n",
    "copycat.name"
   ]
  },
  {
   "cell_type": "code",
   "execution_count": 5,
   "metadata": {},
   "outputs": [
    {
     "name": "stdout",
     "output_type": "stream",
     "text": [
      "<__main__.Cat object at 0x000001F18F9F2450> True hi\n",
      "<__main__.Cat object at 0x000001F18F9F1510> True hi\n",
      "<__main__.Cat object at 0x000001F1908156D0> True hi\n"
     ]
    }
   ],
   "source": [
    "cats = [Cat(\"Mjau\"), Cat(\"Åke\"), Cat(\"Måns\")]\n",
    "\n",
    "for cat in cats:\n",
    "    print(cat, True, \"hi\")"
   ]
  }
 ],
 "metadata": {
  "kernelspec": {
   "display_name": "python_max_farnstrom-X2dyWug9",
   "language": "python",
   "name": "python3"
  },
  "language_info": {
   "codemirror_mode": {
    "name": "ipython",
    "version": 3
   },
   "file_extension": ".py",
   "mimetype": "text/x-python",
   "name": "python",
   "nbconvert_exporter": "python",
   "pygments_lexer": "ipython3",
   "version": "3.11.6"
  },
  "orig_nbformat": 4
 },
 "nbformat": 4,
 "nbformat_minor": 2
}
