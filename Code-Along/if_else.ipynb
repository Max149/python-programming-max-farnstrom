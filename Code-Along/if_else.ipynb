{
 "cells": [
  {
   "cell_type": "markdown",
   "metadata": {},
   "source": [
    "# if statements\n",
    "- **if** - essential part of if-statement\n",
    "- **elif** - zero, one, or more elif\n",
    "- **else** - zero, one"
   ]
  },
  {
   "cell_type": "code",
   "execution_count": null,
   "metadata": {},
   "outputs": [
    {
     "ename": "",
     "evalue": "",
     "output_type": "error",
     "traceback": [
      "\u001b[1;31mRunning cells with 'c:\\Users\\MaxF�rsntr�m-AI23GBG\\AppData\\Local\\Microsoft\\WindowsApps\\python3.11.exe' requires the ipykernel package.\n",
      "\u001b[1;31mRun the following command to install 'ipykernel' into the Python environment. \n",
      "\u001b[1;31mCommand: 'c:/Users/MaxF�rsntr�m-AI23GBG/AppData/Local/Microsoft/WindowsApps/python3.11.exe -m pip install ipykernel -U --user --force-reinstall'"
     ]
    }
   ],
   "source": [
    "x = 5\n",
    "\n",
    "name = \"Mackan verra\"\n",
    "\n",
    "if x < 10 or name == \"Max\":\n",
    "    print(\"yes!\")\n",
    "    print(\"True!\")\n",
    "elif name == \"Super Max\":\n",
    "    print(\"Hello Max\")\n",
    "elif name == \"Super Max\":\n",
    "    print(\"Hello Max\")\n",
    "elif name == \"Super Max\":\n",
    "    print(\"Hello Max\")\n",
    "else:\n",
    "    print(\"no!\")\n",
    "    print(\"False!\")"
   ]
  },
  {
   "cell_type": "markdown",
   "metadata": {},
   "source": [
    "# On line if statement\n"
   ]
  },
  {
   "cell_type": "markdown",
   "metadata": {},
   "source": [
    "# Ternary Operator\n",
    "- a special operator that take three operands and returns one of those choices depending on if the middle expression evaluate to true or false. (TrueValue\" if expression else FalseValue)"
   ]
  },
  {
   "cell_type": "code",
   "execution_count": null,
   "metadata": {},
   "outputs": [],
   "source": [
    "name = \"Mackan\"\n",
    "\n",
    "lastname = \"verra\" if name == \"Max\" else \"???\"\n",
    "\n",
    "print(f\"(name) (lastname)\")\n",
    "\n",
    "seconds = 4\n",
    "print(f\"Please wait (second(\"s\" if seconds != 1 else \"\") \")"
   ]
  }
 ],
 "metadata": {
  "kernelspec": {
   "display_name": "Python 3",
   "language": "python",
   "name": "python3"
  },
  "language_info": {
   "name": "python",
   "version": "3.11.5"
  },
  "orig_nbformat": 4
 },
 "nbformat": 4,
 "nbformat_minor": 2
}
