{
 "cells": [
  {
   "cell_type": "markdown",
   "metadata": {},
   "source": [
    "# Properties (sing, property, sv. Egenskap)\n",
    "a propterty is a python construction (or OOP concept) that works similiar to an attribute, with the difference that an attribute stores (and reads) the value directly to memeory, while a property uses getter and setter methods to change the values of the property.\n",
    "\n",
    "from the \"outside\" (of the class definition) when a property of an object is set, the objects internal setter method will be called to handle the operation. this method is marked in the class definition by a decorator called {name}.setter (where\"name\" is the name of the property)\n",
    "\n",
    "when the property is read (from the outside) the objects internal getter method will be called to return a value. the getter method is marked in the class definition by a decorator called @property."
   ]
  },
  {
   "cell_type": "code",
   "execution_count": 18,
   "metadata": {},
   "outputs": [],
   "source": [
    "class Employee:\n",
    "    def __init__(self, name, salary):\n",
    "        self.name = name\n",
    "        self.salary = salary\n",
    "\n",
    "    #def set_salary(self, salary):\n",
    "        #self._salary = 0 if salary < 0 else salary\n",
    "\n",
    "    \n",
    "    # getter method\n",
    "    @property\n",
    "    def salary(self):\n",
    "        return self._salary\n",
    "    \n",
    "    # Setter method\n",
    "    @salary.setter\n",
    "    def salary(self, salary):\n",
    "        self._salary = 0 if salary < 0 else salary"
   ]
  },
  {
   "cell_type": "code",
   "execution_count": 28,
   "metadata": {},
   "outputs": [
    {
     "name": "stdout",
     "output_type": "stream",
     "text": [
      "0\n"
     ]
    }
   ],
   "source": [
    "PI = 3.1415\n",
    "\n",
    "employee = Employee(\"anders\", 40000)\n",
    "employee2 = Employee(\"Bertil\", -40000)\n",
    "\n",
    "#employee.salary = 50000\n",
    "#employee2.set_salary(-40000)\n",
    "\n",
    "employee.salary = -5000\n",
    "print(employee.salary)\n",
    "\n",
    "#print(employee.get_salary())\n",
    "#print(employee2.get_salary())"
   ]
  },
  {
   "cell_type": "code",
   "execution_count": 53,
   "metadata": {},
   "outputs": [
    {
     "name": "stdout",
     "output_type": "stream",
     "text": [
      "Mackan\n",
      "Verra\n",
      "Kalle, Krycka, 19\n"
     ]
    }
   ],
   "source": [
    "class Person:\n",
    "    def __init__(self, firstname, lastname, age):\n",
    "        self.firstname = firstname\n",
    "        self.lastname = lastname\n",
    "        self.age = age\n",
    "\n",
    "    @property\n",
    "    def lastname(self):\n",
    "        return self._lastname\n",
    "    \n",
    "    @lastname.setter\n",
    "    def lastname(self, name):\n",
    "        self._lastname = name\n",
    "\n",
    "    @property\n",
    "    def age(self):\n",
    "        return self._age\n",
    "    \n",
    "    @age.setter\n",
    "    def age(self, age):\n",
    "        if type(age) != int:\n",
    "            self._age = 0\n",
    "        elif age < 0:\n",
    "            self._age = 0\n",
    "        elif age > 100:\n",
    "            self._age = 100\n",
    "        else:\n",
    "            self._age = age\n",
    "\n",
    "\n",
    "person = Person(\"Mackan\", \"Verra\", 19)\n",
    "\n",
    "person.age = 19\n",
    "\n",
    "name = person.firstname\n",
    "print(name)\n",
    "person.firstname = \"Kalle,\"\n",
    "\n",
    "name = person.lastname\n",
    "print(name)\n",
    "person.lastname = \"Krycka,\"\n",
    "\n",
    "print(person.firstname, person.lastname, person.age)\n",
    "\n"
   ]
  }
 ],
 "metadata": {
  "kernelspec": {
   "display_name": "python_max_farnstrom-X2dyWug9",
   "language": "python",
   "name": "python3"
  },
  "language_info": {
   "codemirror_mode": {
    "name": "ipython",
    "version": 3
   },
   "file_extension": ".py",
   "mimetype": "text/x-python",
   "name": "python",
   "nbconvert_exporter": "python",
   "pygments_lexer": "ipython3",
   "version": "3.11.6"
  },
  "orig_nbformat": 4
 },
 "nbformat": 4,
 "nbformat_minor": 2
}
