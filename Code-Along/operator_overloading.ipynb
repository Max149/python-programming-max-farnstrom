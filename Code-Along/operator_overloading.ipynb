{
 "cells": [
  {
   "cell_type": "markdown",
   "metadata": {},
   "source": [
    "# Operator overloading"
   ]
  },
  {
   "cell_type": "code",
   "execution_count": 8,
   "metadata": {},
   "outputs": [
    {
     "data": {
      "text/plain": [
       "17"
      ]
     },
     "execution_count": 8,
     "metadata": {},
     "output_type": "execute_result"
    }
   ],
   "source": [
    "class Cat:\n",
    "    def __init__(self, name, age):\n",
    "        self.name = name\n",
    "        self.age = age\n",
    "\n",
    "    def __add__(self, other):\n",
    "        return self.name + other.name\n",
    "\n",
    "\n",
    "cat_a = Cat(\"jesus\", 8)\n",
    "cat_b = Cat(\"åke\", 9)\n",
    "\n",
    "cat_a + cat_b"
   ]
  },
  {
   "cell_type": "code",
   "execution_count": null,
   "metadata": {},
   "outputs": [],
   "source": [
    "\"hello\" + \"world\""
   ]
  },
  {
   "cell_type": "code",
   "execution_count": null,
   "metadata": {},
   "outputs": [],
   "source": [
    "[\"kiwi\", \"orange\", \"melon\"] + [\"apple\", \"pear\"]"
   ]
  },
  {
   "cell_type": "code",
   "execution_count": 18,
   "metadata": {},
   "outputs": [
    {
     "name": "stdout",
     "output_type": "stream",
     "text": [
      "Kelvin = 278.15, Celsius = 5.0\n",
      "Kelvin = 5, Celsius = -268.15\n",
      "Kelvin = 2, Celsius = -271.15\n"
     ]
    },
    {
     "data": {
      "text/plain": [
       "Kelvin = 7, Celsius = -266.15"
      ]
     },
     "execution_count": 18,
     "metadata": {},
     "output_type": "execute_result"
    }
   ],
   "source": [
    "class Temperature:\n",
    "    def __init__(self, kelvin=None, celsius=None):\n",
    "        if kelvin is not None:\n",
    "            self.kelvin = kelvin\n",
    "        else:\n",
    "            self.celsius = celsius\n",
    "\n",
    "    @property\n",
    "    def kelvin(self):\n",
    "        return self._kelvin\n",
    "    \n",
    "    @kelvin.setter\n",
    "    def kelvin(self, kelvin):\n",
    "        self._kelvin = kelvin\n",
    "    \n",
    "    @property\n",
    "    def celsius(self):\n",
    "        return self._kelvin - 273.15\n",
    "    \n",
    "    @celsius.setter\n",
    "    def celsius(self, celsius):\n",
    "        self._kelvin = celsius + 273.15\n",
    "\n",
    "    def __repr__(self):\n",
    "        return f\"Kelvin = {self.kelvin}, Celsius = {self.celsius}\"\n",
    "    \n",
    "    def __add__(self, other):\n",
    "        if type(other) not in [float, int, Temperature]:\n",
    "            raise TypeError(\"fel!\")\n",
    "        \n",
    "        kelvin = other if type(other) in [float, int] else other.kelvin\n",
    "        return Temperature(kelvin=self.kelvin + other)\n",
    "    \n",
    "    def __radd__(self, other):\n",
    "        return self.__add__(other)\n",
    "\n",
    "t1 = Temperature(celsius=5)\n",
    "t2 = Temperature(kelvin=5)\n",
    "t3 = Temperature(kelvin=2)\n",
    "\n",
    "\n",
    "print(t1)\n",
    "print(t2)\n",
    "print(t3)\n",
    "\n",
    "\n",
    "2 + t2\n",
    "    \n",
    "\n",
    "\n",
    "\n",
    "\n",
    "    \n"
   ]
  },
  {
   "cell_type": "markdown",
   "metadata": {},
   "source": [
    "förklarar vad alla tecken å funktioner gör: docs.python.org"
   ]
  }
 ],
 "metadata": {
  "kernelspec": {
   "display_name": "python_max_farnstrom-X2dyWug9",
   "language": "python",
   "name": "python3"
  },
  "language_info": {
   "codemirror_mode": {
    "name": "ipython",
    "version": 3
   },
   "file_extension": ".py",
   "mimetype": "text/x-python",
   "name": "python",
   "nbconvert_exporter": "python",
   "pygments_lexer": "ipython3",
   "version": "3.11.6"
  },
  "orig_nbformat": 4
 },
 "nbformat": 4,
 "nbformat_minor": 2
}
