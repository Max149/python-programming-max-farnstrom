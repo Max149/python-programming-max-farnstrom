{
 "cells": [
  {
   "cell_type": "markdown",
   "metadata": {},
   "source": [
    "# Object oriented programming\n",
    "- a class is a blue print that can be used to create objects\n",
    "- an instance is the actual object containing data and methods"
   ]
  },
  {
   "cell_type": "code",
   "execution_count": 18,
   "metadata": {},
   "outputs": [
    {
     "ename": "SyntaxError",
     "evalue": "f-string: unmatched '[' (4115573255.py, line 10)",
     "output_type": "error",
     "traceback": [
      "\u001b[1;36m  Cell \u001b[1;32mIn[18], line 10\u001b[1;36m\u001b[0m\n\u001b[1;33m    return f\"{student[\"FirstName\"]} {student[\"LastName\"]}\"\u001b[0m\n\u001b[1;37m                       ^\u001b[0m\n\u001b[1;31mSyntaxError\u001b[0m\u001b[1;31m:\u001b[0m f-string: unmatched '['\n"
     ]
    }
   ],
   "source": [
    "student_a = {\"FirstName\": \"Max\", \"LastName\": \"Åkesson\", \"Age\": 32, \"Grade\": 3.4}\n",
    "student_b = {\"FirstName\": \"nils\", \"LastName\": \"eriksson\", \"Age\": 33, \"Grade\": 4.2}\n",
    "\n",
    "students = [student_a, student_b]\n",
    "\n",
    "def set_grade(student, grade):\n",
    "    student[\"Grade\"] = grade\n",
    "\n",
    "def get_name(student):\n",
    "    return f\"{student[\"FirstName\"]} {student[\"LastName\"]}\"\n",
    "\n",
    "for student in students:\n",
    "    set_grade(student, 3.0)\n",
    "    print(get_name(student))\n",
    "\n",
    "pass\n"
   ]
  },
  {
   "cell_type": "code",
   "execution_count": 15,
   "metadata": {},
   "outputs": [],
   "source": [
    "class Student:\n",
    "    def __init__(self, name, grade):\n",
    "        self.grade = grade\n",
    "        self.name = name\n",
    "\n",
    "    def set_grade(self, grade):\n",
    "        self.grade = grade\n",
    "        \n",
    "    "
   ]
  },
  {
   "cell_type": "code",
   "execution_count": 16,
   "metadata": {},
   "outputs": [
    {
     "name": "stdout",
     "output_type": "stream",
     "text": [
      "{'grade': 3.4, 'name': 'Max'}\n",
      "{'grade': 4.2, 'name': 'nils'}\n",
      "\n",
      "{'grade': 3.4, 'name': 'Max'}\n",
      "{'grade': 4.2, 'name': 'nils'}\n"
     ]
    }
   ],
   "source": [
    "student_a = Student(\"Max\", 3.4)\n",
    "student_b = Student(\"nils\", 4.2)\n",
    "\n",
    "print(student_a.__dict__)\n",
    "print(student_b.__dict__)\n",
    "student_a.set_grade(3.4)\n",
    "student_b.set_grade(4.2)\n",
    "print()\n",
    "print(student_a.__dict__)\n",
    "print(student_b.__dict__)"
   ]
  },
  {
   "cell_type": "code",
   "execution_count": 4,
   "metadata": {},
   "outputs": [
    {
     "name": "stdout",
     "output_type": "stream",
     "text": [
      "Max\n",
      "nils\n",
      "{'name': 'Max', 'age': 32}\n"
     ]
    }
   ],
   "source": [
    "student_a = Student()\n",
    "student_b = Student()\n",
    "\n",
    "student_a.name = \"Max\"\n",
    "student_a.age = 32\n",
    "\n",
    "student_b.name = \"nils\"\n",
    "\n",
    "print(student_a.name)\n",
    "print(student_b.name)\n",
    "print(student_a.__dict__)"
   ]
  },
  {
   "cell_type": "code",
   "execution_count": 27,
   "metadata": {},
   "outputs": [],
   "source": [
    "class Cat:\n",
    "    def __init__(self, name, age):\n",
    "        self.name = name\n",
    "        self.age = age\n",
    "    \n",
    "    def greet(self):\n",
    "        print(f\"Hello, im {self.name} and im {self.age} years old\")\n",
    "\n",
    "    def greet(self, other = None):\n",
    "            if other is None:\n",
    "                print(f\"Hello, im {self.name} and im {self.age} years old\")\n",
    "            else:\n",
    "                if other.age < self.age:    \n",
    "                    print(f\"hi {other.name} my name is {self.name}, and i am {self.age-other.age} year older than you\")\n",
    "                elif other.age == self.age:\n",
    "                    print(f\"hi {other.name} my name is {self.name}, and we are both {self.age} year old\")  \n",
    "                else:\n",
    "                    print(f\"hi {other.name} my name is {self.name}, and i am {other.age-self.age} year younger than you\")\n",
    "\n",
    "    def print_best_friend(self):\n",
    "        if print_best_friend == None:\n",
    "            \n",
    "        print(f\"\")\n",
    "\n",
    "\n",
    "                     \n",
    "\n",
    "    \n",
    "\n"
   ]
  },
  {
   "cell_type": "code",
   "execution_count": 28,
   "metadata": {},
   "outputs": [
    {
     "name": "stdout",
     "output_type": "stream",
     "text": [
      "Hello, im åke and im 3 years old\n",
      "Hello, im bögen and im 2 years old\n",
      "hi bögen my name is åke\n"
     ]
    }
   ],
   "source": [
    "my_cat = Cat(\"åke\", 3)\n",
    "my_other_cat = Cat(\"bögen\", 2)\n",
    "my_disfunctioned_cat = Cat(\"öhh\", 5)\n",
    "my_fourth_cat = Cat(\"jens\", 4)\n",
    "\n",
    "my_cat.greet()\n",
    "my_other_cat.greet()\n",
    "\n",
    "cats = [my_cat, my_other_cat, my_disfunctioned_cat, my_fourth_cat]\n",
    "\n",
    "for cat in cats:\n",
    "    cat.print_best_friend()\n",
    "\n",
    "my_cat.greet(my_other_cat)\n",
    "my_cat.greet(my_disfunctioned_cat)\n",
    "\n",
    "\n",
    "\n",
    "\n",
    "\n",
    "\n"
   ]
  },
  {
   "cell_type": "code",
   "execution_count": 17,
   "metadata": {},
   "outputs": [
    {
     "data": {
      "text/plain": [
       "'MAX'"
      ]
     },
     "execution_count": 17,
     "metadata": {},
     "output_type": "execute_result"
    }
   ],
   "source": [
    "class str:\n",
    "    def upper(self):\n",
    "        ...\n",
    "        \n",
    "name = \"Max\"\n",
    "\n",
    "name.upper()"
   ]
  }
 ],
 "metadata": {
  "kernelspec": {
   "display_name": "python_max_farnstrom-X2dyWug9",
   "language": "python",
   "name": "python3"
  },
  "language_info": {
   "codemirror_mode": {
    "name": "ipython",
    "version": 3
   },
   "file_extension": ".py",
   "mimetype": "text/x-python",
   "name": "python",
   "nbconvert_exporter": "python",
   "pygments_lexer": "ipython3",
   "version": "3.11.5"
  },
  "orig_nbformat": 4
 },
 "nbformat": 4,
 "nbformat_minor": 2
}
