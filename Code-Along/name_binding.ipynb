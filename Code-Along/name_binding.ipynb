{
 "cells": [
  {
   "cell_type": "markdown",
   "metadata": {},
   "source": [
    "# name binding\n",
    "- everything in python is an object. meaning every entity has some metadata (attributes) and associated functionality(methods)\n",
    "- names can be bound to any object. "
   ]
  },
  {
   "cell_type": "markdown",
   "metadata": {},
   "source": [
    "### mutable vs immutable \n",
    "- numerics, strings and tuples are immutable, meaning their values cant change after they are created \n",
    "- almost everything else, including list, dictionaries and user-defined objects, are mutable, meaning the values have methods that can change the value in place"
   ]
  },
  {
   "cell_type": "code",
   "execution_count": 3,
   "metadata": {},
   "outputs": [
    {
     "name": "stdout",
     "output_type": "stream",
     "text": [
      "1 140705738777384\n",
      "2 140705738777416\n"
     ]
    }
   ],
   "source": [
    "a = 1\n",
    "print(a, id(a))\n",
    "a = 2\n",
    "print(a, id(a))"
   ]
  },
  {
   "cell_type": "markdown",
   "metadata": {},
   "source": [
    "# rebinding the name vs mutating the value\n",
    "- variables in python doesnt work the same way as in languages as c# and java\n",
    "- a doesnt refer to a place in memory where we store different values, rather values themselfs are objects in memory and a is the name bound to it\n",
    "- a = 2 doesnt mutate the value a, but rather creates a new object \"2\" and rebinds it"
   ]
  },
  {
   "cell_type": "code",
   "execution_count": 4,
   "metadata": {},
   "outputs": [
    {
     "name": "stdout",
     "output_type": "stream",
     "text": [
      "a=1\n",
      "b=1\n"
     ]
    }
   ],
   "source": [
    "a = 1 \n",
    "b = a\n",
    "print(f\"{a =}\",id (a))\n",
    "print(f\"{b =}\",id (b))\n",
    "\n",
    "print()\n",
    "b = 2\n",
    "print(f\"{a =}\",id (a))\n",
    "print(f\"{b =}\",id (b))\n"
   ]
  },
  {
   "cell_type": "code",
   "execution_count": 9,
   "metadata": {},
   "outputs": [
    {
     "name": "stdout",
     "output_type": "stream",
     "text": [
      "cat_a =<__main__.Cat object at 0x00000214788A3D50> 0x214788a3d50\n",
      "cat_a.name ='Bill' 2286944862320\n",
      "cat_b.name='Bill' 2286944862320\n",
      "\n",
      "cat_a.name ='nils' 2286944923568\n",
      "cat_b.name='nils' 2286944923568\n",
      "\n",
      "cat_a.name ='Måns' 2286944890400\n",
      "cat_b.name='nils' 2286944923568\n"
     ]
    }
   ],
   "source": [
    "class Cat:\n",
    "    def __init__(self, name):\n",
    "        self.name = name\n",
    "\n",
    "cat_a = Cat(\"Bill\")\n",
    "\n",
    "print(f\"{cat_a =}\", hex(id(cat_a)))\n",
    "\n",
    "cat_b = cat_a\n",
    "\n",
    "print(f\"{cat_a.name =}\",id (cat_a.name))\n",
    "print(f\"{cat_b.name=}\",id (cat_b.name))\n",
    "\n",
    "print()\n",
    "cat_b.name = (\"nils\")\n",
    "\n",
    "print(f\"{cat_a.name =}\",id (cat_a.name))\n",
    "print(f\"{cat_b.name=}\",id (cat_b.name))\n",
    "\n",
    "print()\n",
    "cat_a = Cat(\"Måns\")\n",
    "\n",
    "print(f\"{cat_a.name =}\",id (cat_a.name))\n",
    "print(f\"{cat_b.name=}\",id (cat_b.name))\n"
   ]
  },
  {
   "cell_type": "markdown",
   "metadata": {},
   "source": [
    "### names and values\n",
    "- names refers to values\n",
    "- assignments never copies data\n",
    "- many names can refer to one value\n",
    "- changes in value are visible through all of its names\n",
    "- names are reasigned independently of other names\n",
    "- objects live until nothing references them\n",
    "\n",
    "python keeps track of how many references each object has and automatically cleans up objects that have none, this is called garbage collecton, and mean that you dont have to get rid of values, they go away by themself when they are no longer needed."
   ]
  },
  {
   "cell_type": "markdown",
   "metadata": {},
   "source": [
    "# references can be more than just names"
   ]
  },
  {
   "cell_type": "markdown",
   "metadata": {},
   "source": [
    "a = [1, 2, 3]\n",
    "b = a\n",
    "print(f\"{a =}\",id (a))\n",
    "print(f\"{b =}\",id (b))\n",
    "\n",
    "print()\n",
    "b.append(4)\n",
    "\n",
    "\n",
    "print(f\"{a =}\",id (a))\n",
    "print(f\"{b =}\",id (b))\n",
    "\n",
    "b = a.copy()\n",
    "\n",
    "print(f\"{a =}\",id (a))\n",
    "print(f\"{b =}\",id (b))\n",
    "\n",
    "print(f\"{a == b = }\")\n",
    "print(f\"{a is b = }\")\n",
    "\n",
    "print()\n",
    "b.append(5)\n",
    "\n",
    "print(f\"{a =}\",id (a))\n",
    "print(f\"{b =}\",id (b))"
   ]
  },
  {
   "cell_type": "markdown",
   "metadata": {},
   "source": [
    "### indentity vs equality \n",
    "- the \"is\" operator checks whether two variables refers to the same object\n",
    "- the \"==\" operator checks whether the values of two valuables are equal\n",
    "\n",
    "if my_cat is None"
   ]
  },
  {
   "cell_type": "code",
   "execution_count": 17,
   "metadata": {},
   "outputs": [
    {
     "name": "stdout",
     "output_type": "stream",
     "text": [
      "cat_a.name='nisse' 2286945012912\n",
      "cat_b.name='nisse' 2286945012912\n",
      "\n",
      "cat_a.name='nisse' 2286945012912\n",
      "cat_b.name='Måns' 2286944894720\n",
      "\n"
     ]
    },
    {
     "ename": "AttributeError",
     "evalue": "'Cat' object has no attribute 'freinds'",
     "output_type": "error",
     "traceback": [
      "\u001b[1;31m---------------------------------------------------------------------------\u001b[0m",
      "\u001b[1;31mAttributeError\u001b[0m                            Traceback (most recent call last)",
      "\u001b[1;32mc:\\Users\\MaxF�rsntr�m-AI23GBG\\Documents\\github\\python_max_farnstrom\\Code-Along\\name_binding.ipynb Cell 11\u001b[0m line \u001b[0;36m1\n\u001b[0;32m     <a href='vscode-notebook-cell:/c%3A/Users/MaxF%EF%BF%BDrsntr%EF%BF%BDm-AI23GBG/Documents/github/python_max_farnstrom/Code-Along/name_binding.ipynb#X16sZmlsZQ%3D%3D?line=14'>15</a>\u001b[0m \u001b[39mprint\u001b[39m(\u001b[39mf\u001b[39m\u001b[39m\"\u001b[39m\u001b[39m{\u001b[39;00mcat_b\u001b[39m.\u001b[39mname\u001b[39m=}\u001b[39;00m\u001b[39m\"\u001b[39m,\u001b[39mid\u001b[39m (cat_b\u001b[39m.\u001b[39mname))\n\u001b[0;32m     <a href='vscode-notebook-cell:/c%3A/Users/MaxF%EF%BF%BDrsntr%EF%BF%BDm-AI23GBG/Documents/github/python_max_farnstrom/Code-Along/name_binding.ipynb#X16sZmlsZQ%3D%3D?line=16'>17</a>\u001b[0m \u001b[39mprint\u001b[39m()\n\u001b[1;32m---> <a href='vscode-notebook-cell:/c%3A/Users/MaxF%EF%BF%BDrsntr%EF%BF%BDm-AI23GBG/Documents/github/python_max_farnstrom/Code-Along/name_binding.ipynb#X16sZmlsZQ%3D%3D?line=17'>18</a>\u001b[0m cat_b\u001b[39m.\u001b[39;49mfreinds\u001b[39m.\u001b[39mappend(\u001b[39m\"\u001b[39m\u001b[39mnisse\u001b[39m\u001b[39m\"\u001b[39m)\n\u001b[0;32m     <a href='vscode-notebook-cell:/c%3A/Users/MaxF%EF%BF%BDrsntr%EF%BF%BDm-AI23GBG/Documents/github/python_max_farnstrom/Code-Along/name_binding.ipynb#X16sZmlsZQ%3D%3D?line=19'>20</a>\u001b[0m \u001b[39mprint\u001b[39m(\u001b[39mf\u001b[39m\u001b[39m\"\u001b[39m\u001b[39m{\u001b[39;00mcat_a\u001b[39m.\u001b[39mfriends\u001b[39m=}\u001b[39;00m\u001b[39m\"\u001b[39m,\u001b[39mid\u001b[39m (cat_a\u001b[39m.\u001b[39mfriends))\n\u001b[0;32m     <a href='vscode-notebook-cell:/c%3A/Users/MaxF%EF%BF%BDrsntr%EF%BF%BDm-AI23GBG/Documents/github/python_max_farnstrom/Code-Along/name_binding.ipynb#X16sZmlsZQ%3D%3D?line=20'>21</a>\u001b[0m \u001b[39mprint\u001b[39m(\u001b[39mf\u001b[39m\u001b[39m\"\u001b[39m\u001b[39m{\u001b[39;00mcat_b\u001b[39m.\u001b[39mfreinds\u001b[39m=}\u001b[39;00m\u001b[39m\"\u001b[39m,\u001b[39mid\u001b[39m (cat_b\u001b[39m.\u001b[39mfriends))\n",
      "\u001b[1;31mAttributeError\u001b[0m: 'Cat' object has no attribute 'freinds'"
     ]
    }
   ],
   "source": [
    "import copy\n",
    "\n",
    "cat_a = Cat(\"nisse\")\n",
    "cat_a.friends = [\"Bill\", \"nils\"]\n",
    "\n",
    "cat_b = copy.copy(cat_a)\n",
    "\n",
    "print(f\"{cat_a.name=}\",id (cat_a.name))\n",
    "print(f\"{cat_b.name=}\",id (cat_b.name))\n",
    "\n",
    "print()\n",
    "cat_b.name = \"Måns\"\n",
    "\n",
    "print(f\"{cat_a.name=}\",id (cat_a.name))\n",
    "print(f\"{cat_b.name=}\",id (cat_b.name))\n",
    "\n",
    "print()\n",
    "cat_b.freinds.append(\"nisse\")\n",
    "\n",
    "print(f\"{cat_a.friends=}\",id (cat_a.friends))\n",
    "print(f\"{cat_b.freinds=}\",id (cat_b.friends))\n",
    "\n",
    "print()\n",
    "cat_b = copy.deepcopy(cat_a)\n",
    "\n",
    "print()\n",
    "cat_b.freinds.append(\"Måns\")\n",
    "\n",
    "print(f\"{cat_a.friends=}\",id (cat_a.friends))\n",
    "print(f\"{cat_b.freinds=}\",id (cat_b.friends))"
   ]
  },
  {
   "cell_type": "markdown",
   "metadata": {},
   "source": [
    "### shallow vs deep copy\n",
    "- do not create copys of objects, they only bind names to an object\n",
    "- a **shallow copy** means constructing a new collecton object and then populating it with references to the child objects found in the original. in essence, a shallow copy is only one level deep. the copiying process "
   ]
  },
  {
   "cell_type": "code",
   "execution_count": 22,
   "metadata": {},
   "outputs": [
    {
     "name": "stdout",
     "output_type": "stream",
     "text": [
      "True\n",
      "this is my func!\n",
      "this is my func!\n",
      "now my_func refers to a new function!\n",
      "this is my func!\n"
     ]
    }
   ],
   "source": [
    "def my_func():\n",
    "    print(\"this is my func!\")\n",
    "\n",
    "\n",
    "print(callable(my_func))\n",
    "\n",
    "my_func()\n",
    "\n",
    "also_my_func = my_func\n",
    "\n",
    "also_my_func()\n",
    "\n",
    "def my_func():\n",
    "    print(\"now my_func refers to a new function!\")\n",
    "\n",
    "my_func()\n",
    "also_my_func()"
   ]
  },
  {
   "cell_type": "markdown",
   "metadata": {},
   "source": [
    "### lots of things are assignements, \n",
    "just as many thing s can serve as references, there are many operations in python that are assignments, each of these lines is an assignemnts t the name x"
   ]
  },
  {
   "cell_type": "code",
   "execution_count": null,
   "metadata": {},
   "outputs": [],
   "source": [
    "x = ...\n",
    "for x in ...\n",
    "[... for x in ...]\n",
    "def x(...):\n",
    "class x:\n",
    "import x\n",
    "from ... import x\n",
    "width ... as x"
   ]
  },
  {
   "cell_type": "markdown",
   "metadata": {},
   "source": [
    "its not these statemanets act kind of like assignments, but that they are real assignments. they all make the name x refer to an object and every fact about assignements applies to all of them"
   ]
  },
  {
   "cell_type": "code",
   "execution_count": 24,
   "metadata": {},
   "outputs": [
    {
     "ename": "TypeError",
     "evalue": "'int' object is not callable",
     "output_type": "error",
     "traceback": [
      "\u001b[1;31m---------------------------------------------------------------------------\u001b[0m",
      "\u001b[1;31mTypeError\u001b[0m                                 Traceback (most recent call last)",
      "\u001b[1;32mc:\\Users\\MaxF�rsntr�m-AI23GBG\\Documents\\github\\python_max_farnstrom\\Code-Along\\name_binding.ipynb Cell 17\u001b[0m line \u001b[0;36m2\n\u001b[0;32m      <a href='vscode-notebook-cell:/c%3A/Users/MaxF%EF%BF%BDrsntr%EF%BF%BDm-AI23GBG/Documents/github/python_max_farnstrom/Code-Along/name_binding.ipynb#X25sZmlsZQ%3D%3D?line=0'>1</a>\u001b[0m \u001b[39mprint\u001b[39m \u001b[39m=\u001b[39m \u001b[39m5\u001b[39m\n\u001b[1;32m----> <a href='vscode-notebook-cell:/c%3A/Users/MaxF%EF%BF%BDrsntr%EF%BF%BDm-AI23GBG/Documents/github/python_max_farnstrom/Code-Along/name_binding.ipynb#X25sZmlsZQ%3D%3D?line=1'>2</a>\u001b[0m \u001b[39mprint\u001b[39;49m(\u001b[39m\"\u001b[39;49m\u001b[39mhello world\u001b[39;49m\u001b[39m\"\u001b[39;49m)\n",
      "\u001b[1;31mTypeError\u001b[0m: 'int' object is not callable"
     ]
    }
   ],
   "source": [
    "print = 5\n",
    "print(\"hello world\")"
   ]
  },
  {
   "cell_type": "code",
   "execution_count": 25,
   "metadata": {},
   "outputs": [
    {
     "name": "stdout",
     "output_type": "stream",
     "text": [
      "hello world\n"
     ]
    }
   ],
   "source": [
    "del print\n",
    "print(\"hello world\")"
   ]
  },
  {
   "cell_type": "code",
   "execution_count": 27,
   "metadata": {},
   "outputs": [
    {
     "name": "stdout",
     "output_type": "stream",
     "text": [
      "hello world\n"
     ]
    }
   ],
   "source": [
    "def my_func(function, string):\n",
    "    function(string)\n",
    "\n",
    "my_func(print, \"hello world\")\n",
    "\n",
    "def my_func(function, string):\n",
    "\n",
    "\n",
    "my_func(str.upper, \"hello world\")\n",
    "my_func(str.lower, \"hello world\")\n",
    "\n"
   ]
  },
  {
   "cell_type": "code",
   "execution_count": null,
   "metadata": {},
   "outputs": [],
   "source": [
    "methods = [str.upper, str.lower, str.capitalize, str.title]\n",
    "\n",
    "for method in methods:\n",
    "    print(method(\"hello WORLD\"))"
   ]
  },
  {
   "cell_type": "code",
   "execution_count": null,
   "metadata": {},
   "outputs": [],
   "source": [
    "list(map(float[\"24.05\", \"32.2\", \"1\"]))"
   ]
  },
  {
   "cell_type": "code",
   "execution_count": 28,
   "metadata": {},
   "outputs": [
    {
     "data": {
      "text/plain": [
       "['ass', 'fun', 'apple', 'banana']"
      ]
     },
     "execution_count": 28,
     "metadata": {},
     "output_type": "execute_result"
    }
   ],
   "source": [
    "fruits = [\"apple\", \"ass\", \"banana\", \"fun\"]\n",
    "\n",
    "sorted(fruits, key=len)"
   ]
  },
  {
   "cell_type": "markdown",
   "metadata": {},
   "source": [
    "### python passes function arguments by assigning to them. \n",
    "parameters are names uses in function \n",
    "when calling a function we provide actuall values to be used as arguments of the function\n",
    "these values are assigned to parameter names just as if assignments statement had been used"
   ]
  },
  {
   "cell_type": "code",
   "execution_count": null,
   "metadata": {},
   "outputs": [],
   "source": [
    "def my_func(x, y):\n",
    "    return x + y\n",
    "\n",
    "my_func(8, 9)\n",
    "\n"
   ]
  },
  {
   "cell_type": "markdown",
   "metadata": {},
   "source": [
    "so when myfunc is called the name x has 8 assigned to it and the name y has 9 assigned to it that assignement works exactly the same as the simple assignment statement we have been talking about, the names x and y are local o the function so when then the functions returns, those names go away. but if the value they refer are still referenced by other the values lives on.\n",
    "\n"
   ]
  },
  {
   "cell_type": "code",
   "execution_count": 30,
   "metadata": {},
   "outputs": [
    {
     "name": "stdout",
     "output_type": "stream",
     "text": [
      "['a', 'b', 'c']\n",
      "['e', 'd']\n",
      "['e', 'd']\n"
     ]
    }
   ],
   "source": [
    "def set_list(list):\n",
    "    list = [\"a\", \"b\", \"c\"]\n",
    "    return list\n",
    "\n",
    "def append_list(list):\n",
    "    list.append('d')\n",
    "    return list\n",
    "\n",
    "my_list = [\"e\"]\n",
    "\n",
    "print(set_list(my_list))\n",
    "print(append_list(my_list))\n",
    "print(my_list)"
   ]
  }
 ],
 "metadata": {
  "kernelspec": {
   "display_name": "python_max_farnstrom-X2dyWug9",
   "language": "python",
   "name": "python3"
  },
  "language_info": {
   "codemirror_mode": {
    "name": "ipython",
    "version": 3
   },
   "file_extension": ".py",
   "mimetype": "text/x-python",
   "name": "python",
   "nbconvert_exporter": "python",
   "pygments_lexer": "ipython3",
   "version": "3.11.6"
  },
  "orig_nbformat": 4
 },
 "nbformat": 4,
 "nbformat_minor": 2
}
