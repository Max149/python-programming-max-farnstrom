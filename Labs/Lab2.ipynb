{
 "cells": [
  {
   "cell_type": "markdown",
   "metadata": {},
   "source": [
    "## load in data from datapoints.txt and store in good structure"
   ]
  },
  {
   "cell_type": "code",
   "execution_count": 74,
   "metadata": {},
   "outputs": [
    {
     "name": "stdout",
     "output_type": "stream",
     "text": [
      "[{'width': 21.959384499160468, 'height': 31.23956701424158, 'label': 0.0}, {'width': 17.714056417303343, 'height': 31.44170391314962, 'label': 0.0}, {'width': 19.332572350434354, 'height': 32.25325633655492, 'label': 0.0}, {'width': 20.191281253428173, 'height': 35.06966921830237, 'label': 0.0}, {'width': 19.639358214988224, 'height': 34.56117030001663, 'label': 0.0}, {'width': 18.341233265627693, 'height': 31.399261188293124, 'label': 0.0}, {'width': 20.23890182459327, 'height': 32.78945132868386, 'label': 0.0}, {'width': 17.905128921789093, 'height': 28.88813385482529, 'label': 0.0}, {'width': 19.299333494980544, 'height': 30.486337996080024, 'label': 0.0}, {'width': 20.118681851201636, 'height': 31.89116680793916, 'label': 0.0}, {'width': 17.96926166354966, 'height': 32.48406633310577, 'label': 0.0}, {'width': 21.58631807419169, 'height': 30.975094109600928, 'label': 0.0}, {'width': 18.659636883604406, 'height': 33.04492931889734, 'label': 0.0}, {'width': 19.209914415003638, 'height': 31.420355685575746, 'label': 0.0}, {'width': 18.16229126686346, 'height': 29.93643755301725, 'label': 0.0}, {'width': 19.120619567709372, 'height': 30.699542112256864, 'label': 0.0}, {'width': 18.583516818010633, 'height': 31.317010181098944, 'label': 0.0}, {'width': 20.282109030336354, 'height': 33.18796105898338, 'label': 0.0}, {'width': 17.672876665469843, 'height': 32.67247775608707, 'label': 0.0}, {'width': 20.795121649361587, 'height': 32.493051910886486, 'label': 0.0}, {'width': 20.101930916301317, 'height': 31.19190374413498, 'label': 0.0}, {'width': 20.39204407747099, 'height': 32.08774193592624, 'label': 0.0}, {'width': 20.098954730848863, 'height': 33.067467402673685, 'label': 0.0}, {'width': 20.88810038727894, 'height': 32.644004609994596, 'label': 0.0}, {'width': 18.59843317023302, 'height': 32.60944545701523, 'label': 0.0}, {'width': 21.069573240979203, 'height': 32.21936612110862, 'label': 0.0}, {'width': 20.276898330625336, 'height': 33.84658247356705, 'label': 0.0}, {'width': 19.592545899041802, 'height': 30.59392660926762, 'label': 0.0}, {'width': 20.323269906838078, 'height': 32.29574812465895, 'label': 0.0}, {'width': 21.35018601896744, 'height': 33.94708664610186, 'label': 0.0}, {'width': 20.1569063412357, 'height': 31.639314277796213, 'label': 0.0}, {'width': 18.929553010373773, 'height': 33.331523282909906, 'label': 0.0}, {'width': 19.499062316347583, 'height': 31.139578977011656, 'label': 0.0}, {'width': 20.579090632339703, 'height': 30.771060416224586, 'label': 0.0}, {'width': 19.69944356712352, 'height': 30.714803909172808, 'label': 0.0}, {'width': 19.893039297257797, 'height': 30.792717627266093, 'label': 0.0}, {'width': 20.554378047506688, 'height': 31.190868044454003, 'label': 0.0}, {'width': 19.55060327163345, 'height': 34.602756266320824, 'label': 0.0}, {'width': 20.759216855120783, 'height': 32.46166610892119, 'label': 0.0}, {'width': 20.008781128403864, 'height': 32.15292152986537, 'label': 0.0}, {'width': 19.56686423226426, 'height': 30.326934442372128, 'label': 0.0}, {'width': 21.762001750531006, 'height': 33.05861298355044, 'label': 0.0}, {'width': 18.989418138097026, 'height': 30.90556767082746, 'label': 0.0}, {'width': 19.689909518113225, 'height': 31.931042667213433, 'label': 0.0}, {'width': 20.670175582205307, 'height': 32.56517816055985, 'label': 0.0}, {'width': 19.615470460641276, 'height': 31.431998074581394, 'label': 0.0}, {'width': 19.63004376836659, 'height': 33.17007380684688, 'label': 0.0}, {'width': 23.213535136458052, 'height': 30.885396636777646, 'label': 0.0}, {'width': 20.286130095999752, 'height': 32.05337469378953, 'label': 0.0}, {'width': 18.310337204918557, 'height': 32.21783772801109, 'label': 0.0}, {'width': 19.510846016895872, 'height': 29.897476657136767, 'label': 0.0}, {'width': 23.417849657642716, 'height': 30.787174197048245, 'label': 0.0}, {'width': 18.424438779822488, 'height': 31.79940219340467, 'label': 0.0}, {'width': 22.091553997471266, 'height': 31.28659385225738, 'label': 0.0}, {'width': 21.19030359241021, 'height': 35.40347944144049, 'label': 0.0}, {'width': 23.22258522384455, 'height': 30.98700760873653, 'label': 0.0}, {'width': 23.6967469082275, 'height': 32.52744160379351, 'label': 0.0}, {'width': 21.07884990354048, 'height': 32.02998372994636, 'label': 0.0}, {'width': 16.866105280907732, 'height': 28.984730409305136, 'label': 0.0}, {'width': 19.213188999276543, 'height': 31.71415755285442, 'label': 0.0}, {'width': 19.245073847748515, 'height': 32.58876412530819, 'label': 0.0}, {'width': 18.43905922308554, 'height': 30.82782241883467, 'label': 0.0}, {'width': 19.64717255190365, 'height': 32.82976709158487, 'label': 0.0}, {'width': 20.860495554922544, 'height': 29.030638237258632, 'label': 0.0}, {'width': 21.78836263199249, 'height': 32.339722449295664, 'label': 0.0}, {'width': 20.01813734259072, 'height': 32.22092994622254, 'label': 0.0}, {'width': 18.836400960218388, 'height': 35.028108243261656, 'label': 0.0}, {'width': 20.411629224757448, 'height': 32.263992292489995, 'label': 0.0}, {'width': 19.574019952530243, 'height': 31.935886159584427, 'label': 0.0}, {'width': 21.457545842765146, 'height': 31.659809960209728, 'label': 0.0}, {'width': 18.124817511542226, 'height': 31.997288449746307, 'label': 0.0}, {'width': 18.990689973799388, 'height': 32.387963045016726, 'label': 0.0}, {'width': 23.541999631800756, 'height': 32.4751927528317, 'label': 0.0}, {'width': 19.64060341428934, 'height': 30.2915567287162, 'label': 0.0}, {'width': 22.30210323807139, 'height': 32.73237945145149, 'label': 0.0}]\n",
      "[{'width': 23.63591632187622, 'height': 36.46821490673444, 'label': 1.0}, {'width': 21.78020031891186, 'height': 33.213397759738264, 'label': 1.0}, {'width': 25.20630552859312, 'height': 36.558816149350534, 'label': 1.0}, {'width': 24.73645685241186, 'height': 35.33291181124776, 'label': 1.0}, {'width': 23.79257560586339, 'height': 38.10372825362463, 'label': 1.0}, {'width': 24.557612968127465, 'height': 36.73144402805611, 'label': 1.0}, {'width': 25.813562951888365, 'height': 35.561029988644336, 'label': 1.0}, {'width': 24.923378667802954, 'height': 34.463907946680294, 'label': 1.0}, {'width': 25.311244044578427, 'height': 34.117212558131975, 'label': 1.0}, {'width': 22.819091361866796, 'height': 34.25516433025548, 'label': 1.0}, {'width': 22.723629043769336, 'height': 34.83845262048311, 'label': 1.0}, {'width': 25.82936770950206, 'height': 33.16210202637511, 'label': 1.0}, {'width': 24.385289647525166, 'height': 37.335669057387726, 'label': 1.0}, {'width': 26.525412887538252, 'height': 35.2192205449002, 'label': 1.0}, {'width': 22.980962976720388, 'height': 35.3191819848619, 'label': 1.0}, {'width': 25.17676132371397, 'height': 34.393601274285054, 'label': 1.0}, {'width': 24.68867147060795, 'height': 35.363481550256644, 'label': 1.0}, {'width': 23.02865997158701, 'height': 35.4082866561793, 'label': 1.0}, {'width': 23.868174335146136, 'height': 35.449698119416254, 'label': 1.0}, {'width': 26.388368121945867, 'height': 35.62090746957761, 'label': 1.0}, {'width': 25.567802785102412, 'height': 35.66631613405574, 'label': 1.0}, {'width': 23.99071038023876, 'height': 35.06411342600334, 'label': 1.0}, {'width': 23.792145242488125, 'height': 35.107650004447365, 'label': 1.0}, {'width': 24.111063562798908, 'height': 31.418267572382227, 'label': 1.0}, {'width': 24.587154114074174, 'height': 35.61397200548726, 'label': 1.0}, {'width': 21.65956855815321, 'height': 36.81907508404582, 'label': 1.0}, {'width': 24.87225986527509, 'height': 36.149522366845794, 'label': 1.0}, {'width': 22.121125492746756, 'height': 34.690328304537594, 'label': 1.0}, {'width': 26.517189386365075, 'height': 34.7011323493234, 'label': 1.0}, {'width': 23.388322747322558, 'height': 36.769999842308025, 'label': 1.0}, {'width': 20.240420339246214, 'height': 33.87654102727224, 'label': 1.0}, {'width': 24.59096971887165, 'height': 33.61859674823029, 'label': 1.0}, {'width': 25.116586706562245, 'height': 36.20121874558056, 'label': 1.0}, {'width': 25.557501503948984, 'height': 36.39246631338593, 'label': 1.0}, {'width': 24.387651550868913, 'height': 33.2827564295772, 'label': 1.0}, {'width': 22.826788929142136, 'height': 37.16482263385777, 'label': 1.0}, {'width': 24.609041154081922, 'height': 36.104823979389685, 'label': 1.0}, {'width': 23.619820901736276, 'height': 36.98566859418098, 'label': 1.0}, {'width': 25.15076144887497, 'height': 33.89409391341271, 'label': 1.0}, {'width': 24.47796159427686, 'height': 35.32146634770389, 'label': 1.0}, {'width': 24.004087953898246, 'height': 35.618803262029324, 'label': 1.0}, {'width': 22.493387946548573, 'height': 36.78517041843648, 'label': 1.0}, {'width': 22.42591934771403, 'height': 34.789785253591695, 'label': 1.0}, {'width': 22.15365577923418, 'height': 37.131777154514445, 'label': 1.0}, {'width': 24.991105175469915, 'height': 34.10979431232785, 'label': 1.0}, {'width': 25.5491811833759, 'height': 33.52624549604696, 'label': 1.0}, {'width': 20.216002852334192, 'height': 33.41610156154373, 'label': 1.0}, {'width': 25.922634453956498, 'height': 35.2215760062586, 'label': 1.0}, {'width': 26.5173046073707, 'height': 35.18452932633369, 'label': 1.0}, {'width': 21.23487155577698, 'height': 36.5105588800243, 'label': 1.0}, {'width': 21.735098682375444, 'height': 36.51127780882874, 'label': 1.0}, {'width': 24.686621418656394, 'height': 33.104763826036056, 'label': 1.0}, {'width': 27.194383786280955, 'height': 36.267507265697255, 'label': 1.0}, {'width': 22.943474306364404, 'height': 37.07911595862419, 'label': 1.0}, {'width': 23.506242342727596, 'height': 34.65976495915212, 'label': 1.0}, {'width': 23.982852691650397, 'height': 36.01635437187656, 'label': 1.0}, {'width': 22.69081372502663, 'height': 35.561787418827784, 'label': 1.0}, {'width': 25.23472228644244, 'height': 32.641361593924174, 'label': 1.0}, {'width': 25.094170820930774, 'height': 34.58523945069137, 'label': 1.0}, {'width': 25.102866296361412, 'height': 33.30022994232253, 'label': 1.0}, {'width': 25.276930013476704, 'height': 35.131360854176535, 'label': 1.0}, {'width': 25.31359693611633, 'height': 35.516462459726284, 'label': 1.0}, {'width': 23.729020953235672, 'height': 40.1471703193656, 'label': 1.0}, {'width': 24.77859198674412, 'height': 34.15166673260206, 'label': 1.0}, {'width': 24.601954468608902, 'height': 32.78817486174627, 'label': 1.0}, {'width': 23.10295249458573, 'height': 34.771846982043876, 'label': 1.0}, {'width': 23.846379201803554, 'height': 36.1414458257896, 'label': 1.0}, {'width': 23.783158802270272, 'height': 36.043496466883504, 'label': 1.0}, {'width': 24.961373776424374, 'height': 33.9228476372155, 'label': 1.0}, {'width': 25.023623126719983, 'height': 34.28266788814326, 'label': 1.0}, {'width': 23.062887108583702, 'height': 35.04075442599907, 'label': 1.0}, {'width': 23.114574183632723, 'height': 35.530813208835745, 'label': 1.0}, {'width': 23.64067859798334, 'height': 38.192278809575996, 'label': 1.0}, {'width': 23.631672104136165, 'height': 34.52980905331491, 'label': 1.0}, {'width': 21.989953947825015, 'height': 33.64590281447322, 'label': 1.0}]\n"
     ]
    }
   ],
   "source": [
    "import matplotlib.pyplot as plt\n",
    "import csv\n",
    "\n",
    "# initializing to store data labeled as 0 and 1\n",
    "label_0_data = []\n",
    "label_1_data = []\n",
    "\n",
    "# Downloading data from \"datapoints.txt\"\n",
    "with open('datapoints.txt', newline='') as csvfile:\n",
    "    reader = csv.reader(csvfile)\n",
    "    next(reader)\n",
    "    for row in reader:\n",
    "        width, height, label = map(float, row)\n",
    "        if label == 0:\n",
    "            label_0_data.append({'width': width, 'height': height, 'label': label})        \n",
    "        elif label == 1:\n",
    "            label_1_data.append({'width': width, 'height': height, 'label': label})\n",
    "\n",
    "print(label_0_data)\n",
    "print(label_1_data)"
   ]
  },
  {
   "cell_type": "markdown",
   "metadata": {},
   "source": [
    "## load in data from testpoints.txt and store in good structure"
   ]
  },
  {
   "cell_type": "code",
   "execution_count": 85,
   "metadata": {},
   "outputs": [
    {
     "ename": "IndexError",
     "evalue": "list index out of range",
     "output_type": "error",
     "traceback": [
      "\u001b[1;31m---------------------------------------------------------------------------\u001b[0m",
      "\u001b[1;31mIndexError\u001b[0m                                Traceback (most recent call last)",
      "\u001b[1;32mc:\\Users\\MaxF�rsntr�m-AI23GBG\\Documents\\github\\python_max_farnstrom\\Labs\\Lab2.ipynb Cell 4\u001b[0m line \u001b[0;36m1\n\u001b[0;32m      <a href='vscode-notebook-cell:/c%3A/Users/MaxF%EF%BF%BDrsntr%EF%BF%BDm-AI23GBG/Documents/github/python_max_farnstrom/Labs/Lab2.ipynb#W3sZmlsZQ%3D%3D?line=8'>9</a>\u001b[0m     \u001b[39mfor\u001b[39;00m row \u001b[39min\u001b[39;00m reader:\n\u001b[0;32m     <a href='vscode-notebook-cell:/c%3A/Users/MaxF%EF%BF%BDrsntr%EF%BF%BDm-AI23GBG/Documents/github/python_max_farnstrom/Labs/Lab2.ipynb#W3sZmlsZQ%3D%3D?line=9'>10</a>\u001b[0m         width \u001b[39m=\u001b[39m \u001b[39mfloat\u001b[39m(row[\u001b[39m0\u001b[39m]\u001b[39m.\u001b[39msplit(\u001b[39m\"\u001b[39m\u001b[39m(\u001b[39m\u001b[39m\"\u001b[39m)[\u001b[39m1\u001b[39m])\n\u001b[1;32m---> <a href='vscode-notebook-cell:/c%3A/Users/MaxF%EF%BF%BDrsntr%EF%BF%BDm-AI23GBG/Documents/github/python_max_farnstrom/Labs/Lab2.ipynb#W3sZmlsZQ%3D%3D?line=10'>11</a>\u001b[0m         height \u001b[39m=\u001b[39m \u001b[39mfloat\u001b[39m(row[\u001b[39m1\u001b[39;49m]\u001b[39m.\u001b[39;49msplit(\u001b[39m\"\u001b[39;49m\u001b[39m(\u001b[39;49m\u001b[39m\"\u001b[39;49m)[\u001b[39m1\u001b[39;49m])\n\u001b[0;32m     <a href='vscode-notebook-cell:/c%3A/Users/MaxF%EF%BF%BDrsntr%EF%BF%BDm-AI23GBG/Documents/github/python_max_farnstrom/Labs/Lab2.ipynb#W3sZmlsZQ%3D%3D?line=11'>12</a>\u001b[0m         test_list\u001b[39m.\u001b[39mappend({\u001b[39m'\u001b[39m\u001b[39mwidth\u001b[39m\u001b[39m'\u001b[39m: width, \u001b[39m'\u001b[39m\u001b[39mheight\u001b[39m\u001b[39m'\u001b[39m: height})\n\u001b[0;32m     <a href='vscode-notebook-cell:/c%3A/Users/MaxF%EF%BF%BDrsntr%EF%BF%BDm-AI23GBG/Documents/github/python_max_farnstrom/Labs/Lab2.ipynb#W3sZmlsZQ%3D%3D?line=14'>15</a>\u001b[0m \u001b[39mprint\u001b[39m(test_list)\n",
      "\u001b[1;31mIndexError\u001b[0m: list index out of range"
     ]
    }
   ],
   "source": [
    "import csv\n",
    "\n",
    "\n",
    "test_list = []\n",
    "\n",
    "with open('testpoints.txt', newline='') as csvfile:\n",
    "    reader = csv.reader(csvfile)\n",
    "    next(reader)\n",
    "    for row in reader:\n",
    "        width = float(row[0].split(\"(\")[1])\n",
    "        height = float(row[1].split(\"(\")[1])\n",
    "        test_list.append({'width': width, 'height': height})\n",
    "       \n",
    "\n",
    "print(test_list)"
   ]
  },
  {
   "cell_type": "markdown",
   "metadata": {},
   "source": [
    "## plotting the points"
   ]
  },
  {
   "cell_type": "code",
   "execution_count": 37,
   "metadata": {},
   "outputs": [
    {
     "data": {
      "image/png": "[encoded data removed]",
      "text/plain": [
       "<Figure size 800x600 with 1 Axes>"
      ]
     },
     "metadata": {},
     "output_type": "display_data"
    }
   ],
   "source": [
    "import matplotlib.pyplot as plt\n",
    "import numpy as np\n",
    "\n",
    "# Creating figure for plotting\n",
    "plt.figure(figsize=(8, 6))\n",
    "\n",
    "pichu_x = [point['width'] for point in label_0_data]\n",
    "pichu_y = [point['height'] for point in label_0_data]\n",
    "pikachu_x = [point['width'] for point in label_1_data]\n",
    "pikachu_y = [point['height'] for point in label_1_data]\n",
    "\n",
    "# Creating a scatter plot with colors based on \"labels, \"c\" specifies every color based on \"labels\"\n",
    "plt.scatter(pichu_x, pichu_y, c=\"red\", marker=\"o\", label=\"Pichu (Label 0)\")\n",
    "plt.scatter(pikachu_x, pikachu_y, c=\"blue\", marker=\"o\", label=\"Pikachu (Label 1)\")\n",
    "plt.scatter([x[0] for x in test_list], [x[1] for x in test_list], c=\"green\", marker=\"x\", label=\"Test points\")\n",
    "\n",
    "plt.xlabel(\"Width (cm)\")\n",
    "plt.ylabel(\"Height (cm)\")\n",
    "\n",
    "plt.legend()\n",
    "\n",
    "plt.title(\"Pichu and Pikachu points\")\n",
    "\n",
    "plt.show()\n"
   ]
  },
  {
   "cell_type": "markdown",
   "metadata": {},
   "source": [
    "## Calculating distance between points"
   ]
  },
  {
   "cell_type": "code",
   "execution_count": 55,
   "metadata": {},
   "outputs": [
    {
     "ename": "TypeError",
     "evalue": "tuple indices must be integers or slices, not str",
     "output_type": "error",
     "traceback": [
      "\u001b[1;31m---------------------------------------------------------------------------\u001b[0m",
      "\u001b[1;31mTypeError\u001b[0m                                 Traceback (most recent call last)",
      "\u001b[1;32mc:\\Users\\MaxF�rsntr�m-AI23GBG\\Documents\\github\\python_max_farnstrom\\Labs\\Lab2.ipynb Cell 8\u001b[0m line \u001b[0;36m2\n\u001b[0;32m     <a href='vscode-notebook-cell:/c%3A/Users/MaxF%EF%BF%BDrsntr%EF%BF%BDm-AI23GBG/Documents/github/python_max_farnstrom/Labs/Lab2.ipynb#X10sZmlsZQ%3D%3D?line=19'>20</a>\u001b[0m \u001b[39mfor\u001b[39;00m i \u001b[39min\u001b[39;00m \u001b[39mrange\u001b[39m(num_data_points):\n\u001b[0;32m     <a href='vscode-notebook-cell:/c%3A/Users/MaxF%EF%BF%BDrsntr%EF%BF%BDm-AI23GBG/Documents/github/python_max_farnstrom/Labs/Lab2.ipynb#X10sZmlsZQ%3D%3D?line=20'>21</a>\u001b[0m     \u001b[39mfor\u001b[39;00m j \u001b[39min\u001b[39;00m \u001b[39mrange\u001b[39m (num_test_points):\n\u001b[1;32m---> <a href='vscode-notebook-cell:/c%3A/Users/MaxF%EF%BF%BDrsntr%EF%BF%BDm-AI23GBG/Documents/github/python_max_farnstrom/Labs/Lab2.ipynb#X10sZmlsZQ%3D%3D?line=21'>22</a>\u001b[0m         Distances[i][j] \u001b[39m=\u001b[39m euclidean_distance(all_data[i], test_list[j])\n\u001b[0;32m     <a href='vscode-notebook-cell:/c%3A/Users/MaxF%EF%BF%BDrsntr%EF%BF%BDm-AI23GBG/Documents/github/python_max_farnstrom/Labs/Lab2.ipynb#X10sZmlsZQ%3D%3D?line=23'>24</a>\u001b[0m \u001b[39mfor\u001b[39;00m i \u001b[39min\u001b[39;00m \u001b[39mrange\u001b[39m(num_test_points):\n\u001b[0;32m     <a href='vscode-notebook-cell:/c%3A/Users/MaxF%EF%BF%BDrsntr%EF%BF%BDm-AI23GBG/Documents/github/python_max_farnstrom/Labs/Lab2.ipynb#X10sZmlsZQ%3D%3D?line=24'>25</a>\u001b[0m     \u001b[39mfor\u001b[39;00m j \u001b[39min\u001b[39;00m \u001b[39mrange\u001b[39m(num_test_points):\n",
      "\u001b[1;32mc:\\Users\\MaxF�rsntr�m-AI23GBG\\Documents\\github\\python_max_farnstrom\\Labs\\Lab2.ipynb Cell 8\u001b[0m line \u001b[0;36m5\n\u001b[0;32m      <a href='vscode-notebook-cell:/c%3A/Users/MaxF%EF%BF%BDrsntr%EF%BF%BDm-AI23GBG/Documents/github/python_max_farnstrom/Labs/Lab2.ipynb#X10sZmlsZQ%3D%3D?line=3'>4</a>\u001b[0m \u001b[39mdef\u001b[39;00m \u001b[39meuclidean_distance\u001b[39m(point1, point2):\n\u001b[1;32m----> <a href='vscode-notebook-cell:/c%3A/Users/MaxF%EF%BF%BDrsntr%EF%BF%BDm-AI23GBG/Documents/github/python_max_farnstrom/Labs/Lab2.ipynb#X10sZmlsZQ%3D%3D?line=4'>5</a>\u001b[0m     \u001b[39mreturn\u001b[39;00m np\u001b[39m.\u001b[39msqrt((point1[\u001b[39m'\u001b[39m\u001b[39mwidth\u001b[39m\u001b[39m'\u001b[39m] \u001b[39m-\u001b[39m point2[\u001b[39m'\u001b[39;49m\u001b[39mwidth\u001b[39;49m\u001b[39m'\u001b[39;49m])\u001b[39m*\u001b[39m\u001b[39m*\u001b[39m \u001b[39m2\u001b[39m \u001b[39m+\u001b[39m (point1[\u001b[39m'\u001b[39m\u001b[39mheight\u001b[39m\u001b[39m'\u001b[39m] \u001b[39m-\u001b[39m point2[\u001b[39m'\u001b[39m\u001b[39mheight\u001b[39m\u001b[39m'\u001b[39m]) \u001b[39m*\u001b[39m\u001b[39m*\u001b[39m \u001b[39m2\u001b[39m)\n",
      "\u001b[1;31mTypeError\u001b[0m: tuple indices must be integers or slices, not str"
     ]
    }
   ],
   "source": [
    "import numpy as np\n",
    "\n",
    "# Calculating the Euclidean distance between two points\n",
    "def euclidean_distance(point1, point2):\n",
    "    return np.sqrt((point1['width'] - point2['width'])** 2 + (point1['height'] - point2['height']) ** 2)\n",
    "\n",
    "# Converting tuples\n",
    "label_0_data = [{'width': point['width'], 'height': point['height'], 'label': point['label']} for point in label_0_data]\n",
    "label_1_data = [{'width': point['width'], 'height': point['height'], 'label': point['label']} for point in label_1_data]\n",
    "\n",
    "all_data = label_0_data + label_1_data + test_list\n",
    "\n",
    "num_data_points = len(all_data)\n",
    "num_test_points = len(test_list)\n",
    "\n",
    "# Creating array to store distances\n",
    "Distances = np.zeros((num_data_points, num_test_points))\n",
    "\n",
    "# calculating distance between all data points\n",
    "for i in range(num_data_points):\n",
    "    for j in range (num_test_points):\n",
    "        Distances[i][j] = euclidean_distance(all_data[i], test_list[j])\n",
    "        \n",
    "for i in range(num_test_points):\n",
    "    for j in range(num_test_points):\n",
    "        print(f\"distance between point {i} and point {j}: {Distances[i][j]}\")\n",
    "\n",
    "\n"
   ]
  },
  {
   "cell_type": "markdown",
   "metadata": {},
   "source": [
    "## deciding which pokemon based on closest point"
   ]
  },
  {
   "cell_type": "code",
   "execution_count": 9,
   "metadata": {},
   "outputs": [
    {
     "name": "stdout",
     "output_type": "stream",
     "text": [
      "Sample with (width, height): (25, 32) classified as Pikachu\n",
      "Sample with (width, height): (24.2, 31.5) classified as Pikachu\n",
      "Sample with (width, height): (22, 34) classified as Pikachu\n",
      "Sample with (width, height): (20.5, 34) classified as Pichu\n"
     ]
    }
   ],
   "source": [
    "import numpy as np\n",
    "\n",
    "for i in range(num_points):\n",
    "    for j in range(num_points):\n",
    "        Distances[i][j] = euclidean_distance(all_data[i], all_data[j])\n",
    "\n",
    "closest_labels = []\n",
    "\n",
    "# Determining if Pichu or Pikachu is the closest\n",
    "for i in range(num_points):\n",
    "    closest_label = None\n",
    "    min_distance = float('inf')  \n",
    "    for j in range(num_points):\n",
    "        if i != j:  \n",
    "            distance = Distances[i][j]\n",
    "            if distance < min_distance:\n",
    "                min_distance = distance\n",
    "                if j < len(label_0_data):\n",
    "                    closest_label = \"Pichu\"\n",
    "                elif j < len(label_0_data) + len(label_1_data):\n",
    "                    closest_label = \"Pikachu\"\n",
    "    closest_labels.append(closest_label)\n",
    "\n",
    "for i in range(len(label_0_data) + len(label_1_data), num_points):\n",
    "    print(f\"Sample with (width, height): {test_list[i - num_points]} classified as {closest_labels[i - num_points]}\")"
   ]
  },
  {
   "cell_type": "markdown",
   "metadata": {},
   "source": [
    "## Uppgift 1"
   ]
  },
  {
   "cell_type": "code",
   "execution_count": 220,
   "metadata": {},
   "outputs": [
    {
     "name": "stdout",
     "output_type": "stream",
     "text": [
      "Test point with (width, height): (25.0, 42.0) is classified as Pikachu\n"
     ]
    }
   ],
   "source": [
    "# Allowing the user to input a test point\n",
    "while True:\n",
    "    try:\n",
    "        width = float(input(\"Enter the test point width: \"))\n",
    "        height = float(input(\"Enter the height of the test point: \"))\n",
    "        test_point = (width, height)\n",
    "        break\n",
    "    except ValueError:\n",
    "        print(\"Invalid input\")\n",
    "\n",
    "# Calculating the closest label\n",
    "min_distance = float('inf')\n",
    "closest_label = None\n",
    "for i in range(num_points):\n",
    "    distance = euclidean_distance(test_point, all_data[i])\n",
    "    if distance < min_distance:\n",
    "        min_distance = distance\n",
    "        if i < len(label_0_data):\n",
    "            closest_label = \"Pichu\"\n",
    "        elif i < len(label_0_data) + len(label_1_data):\n",
    "            closest_label = \"Pikachu\"\n",
    "\n",
    "print(f\"Test point with (width, height): {test_point} is classified as {closest_label}\") # This code was from chat gpt\n"
   ]
  },
  {
   "cell_type": "markdown",
   "metadata": {},
   "source": [
    "## Uppgift 2"
   ]
  },
  {
   "cell_type": "code",
   "execution_count": 15,
   "metadata": {},
   "outputs": [
    {
     "name": "stdout",
     "output_type": "stream",
     "text": [
      "Test point (width, height): (20.5, 34) - closest points:\n",
      "1. (20.5, 34)\n",
      "2. [20.276898330625336, 33.84658247356705]\n",
      "3. [20.240420339246214, 33.87654102727224]\n",
      "4. [20.216002852334192, 33.41610156154373]\n",
      "5. [20.282109030336354, 33.18796105898338]\n",
      "6. [21.35018601896744, 33.94708664610186]\n",
      "7. [20.098954730848863, 33.067467402673685]\n",
      "8. [19.639358214988224, 34.56117030001663]\n",
      "9. [20.191281253428173, 35.06966921830237]\n",
      "10. [19.55060327163345, 34.602756266320824]\n"
     ]
    }
   ],
   "source": [
    "import numpy as np\n",
    "from operator import itemgetter \n",
    "\n",
    "def euclidean_distance(point1, point2):\n",
    "    x1, y1 = point1\n",
    "    x2, y2 = point2\n",
    "    return np.sqrt((x2-x1) ** 2 + (y2 - y1)**2)\n",
    "\n",
    "test_points = [(25, 32), (24.2, 31.5), (22, 34), (20.5, 34)]\n",
    "\n",
    "# looping through each testingpoint and calculating distance between all points and the all_data points\n",
    "for test_point in test_points:\n",
    "    distances = [(i, euclidean_distance(test_point, point)) for i, point in enumerate(all_data)]\n",
    "\n",
    "# sorting distances\n",
    "closest_indices = [index for index, _ in sorted (distances, key=itemgetter(1))[:10]]\n",
    "\n",
    "# getting 10 closest points\n",
    "closest_points = [all_data[i] for i in closest_indices]\n",
    " \n",
    "classified_classes = max(set(closest_classes), key=closest_classes.count)\n",
    "\n",
    "print(f\"Test point (width, height): {test_point} - closest points:\")\n",
    "for i, point in enumerate(closest_points, start=1):\n",
    "    print(f\"{i}. {point}\")\n"
   ]
  },
  {
   "cell_type": "markdown",
   "metadata": {},
   "source": [
    "## Uppgift 3"
   ]
  },
  {
   "cell_type": "code",
   "execution_count": 235,
   "metadata": {},
   "outputs": [
    {
     "name": "stdout",
     "output_type": "stream",
     "text": [
      "Training Data:\n",
      "Pikachu: [25.23472228644244, 32.641361593924174]\n",
      "Pichu: [18.659636883604406, 33.04492931889734]\n",
      "Pikachu: [22.980962976720388, 35.3191819848619]\n",
      "Pichu: [17.714056417303343, 31.44170391314962]\n",
      "Pichu: [21.069573240979203, 32.21936612110862]\n",
      "Pichu: [18.989418138097026, 30.90556767082746]\n",
      "Pikachu: [23.868174335146136, 35.449698119416254]\n",
      "Pichu: [18.424438779822488, 31.79940219340467]\n",
      "Pichu: [19.510846016895872, 29.897476657136767]\n",
      "Pichu: [18.583516818010633, 31.317010181098944]\n",
      "Pikachu: [21.735098682375444, 36.51127780882874]\n",
      "Pikachu: [23.79257560586339, 38.10372825362463]\n",
      "Pikachu: [21.989953947825015, 33.64590281447322]\n",
      "Pichu: [19.213188999276543, 31.71415755285442]\n",
      "Pikachu: [26.525412887538252, 35.2192205449002]\n",
      "Pikachu: [26.5173046073707, 35.18452932633369]\n",
      "Pichu: [21.35018601896744, 33.94708664610186]\n",
      "Pichu: [19.689909518113225, 31.931042667213433]\n",
      "Pichu: [20.008781128403864, 32.15292152986537]\n",
      "Pichu: [19.499062316347583, 31.139578977011656]\n",
      "Pichu: [20.1569063412357, 31.639314277796213]\n",
      "Pikachu: [24.385289647525166, 37.335669057387726]\n",
      "Pichu: [21.457545842765146, 31.659809960209728]\n",
      "Pikachu: [25.102866296361412, 33.30022994232253]\n",
      "Pikachu: [24.557612968127465, 36.73144402805611]\n",
      "Pikachu: [24.47796159427686, 35.32146634770389]\n",
      "Pichu: [18.310337204918557, 32.21783772801109]\n",
      "Pikachu: [25.116586706562245, 36.20121874558056]\n",
      "Pikachu: [25.557501503948984, 36.39246631338593]\n",
      "Pichu: [20.276898330625336, 33.84658247356705]\n",
      "Pikachu: [25.17676132371397, 34.393601274285054]\n",
      "Pikachu: [23.619820901736276, 36.98566859418098]\n",
      "Pichu: [20.579090632339703, 30.771060416224586]\n",
      "Pichu: [20.88810038727894, 32.644004609994596]\n",
      "Pichu: [20.098954730848863, 33.067467402673685]\n",
      "Pichu: [19.209914415003638, 31.420355685575746]\n",
      "Pichu: [20.670175582205307, 32.56517816055985]\n",
      "Pichu: [19.615470460641276, 31.431998074581394]\n",
      "Pikachu: [22.943474306364404, 37.07911595862419]\n",
      "Pikachu: [23.982852691650397, 36.01635437187656]\n",
      "Pichu: [22.30210323807139, 32.73237945145149]\n",
      "Pichu: [19.332572350434354, 32.25325633655492]\n",
      "Pikachu: [23.792145242488125, 35.107650004447365]\n",
      "Pikachu: [25.5491811833759, 33.52624549604696]\n",
      "Pikachu: [22.69081372502663, 35.561787418827784]\n",
      "Pichu: [23.22258522384455, 30.98700760873653]\n",
      "Pikachu: [22.121125492746756, 34.690328304537594]\n",
      "Pikachu: [23.99071038023876, 35.06411342600334]\n",
      "Pikachu: [24.004087953898246, 35.618803262029324]\n",
      "Pichu: [19.64060341428934, 30.2915567287162]\n",
      "Pikachu: [25.276930013476704, 35.131360854176535]\n",
      "Pichu: [23.213535136458052, 30.885396636777646]\n",
      "Pikachu: [23.114574183632723, 35.530813208835745]\n",
      "Pichu: [20.411629224757448, 32.263992292489995]\n",
      "Pichu: [20.323269906838078, 32.29574812465895]\n",
      "Pichu: [23.541999631800756, 32.4751927528317]\n",
      "Pichu: [19.592545899041802, 30.59392660926762]\n",
      "Pichu: [18.929553010373773, 33.331523282909906]\n",
      "Pikachu: [25.922634453956498, 35.2215760062586]\n",
      "Pikachu: [24.387651550868913, 33.2827564295772]\n",
      "Pikachu: [23.783158802270272, 36.043496466883504]\n",
      "Pikachu: [26.517189386365075, 34.7011323493234]\n",
      "Pichu: [19.56686423226426, 30.326934442372128]\n",
      "Pikachu: [23.062887108583702, 35.04075442599907]\n",
      "Pikachu: [23.10295249458573, 34.771846982043876]\n",
      "Pichu: [20.286130095999752, 32.05337469378953]\n",
      "Pikachu: [24.923378667802954, 34.463907946680294]\n",
      "Pikachu: [21.65956855815321, 36.81907508404582]\n",
      "Pichu: [19.574019952530243, 31.935886159584427]\n",
      "Pikachu: [24.68867147060795, 35.363481550256644]\n",
      "Pichu: [19.63004376836659, 33.17007380684688]\n",
      "Pikachu: [22.723629043769336, 34.83845262048311]\n",
      "Pichu: [20.860495554922544, 29.030638237258632]\n",
      "Pichu: [19.245073847748515, 32.58876412530819]\n",
      "Pichu: [20.01813734259072, 32.22092994622254]\n",
      "Pikachu: [24.587154114074174, 35.61397200548726]\n",
      "Pikachu: [24.59096971887165, 33.61859674823029]\n",
      "Pichu: [17.905128921789093, 28.88813385482529]\n",
      "Pikachu: [24.991105175469915, 34.10979431232785]\n",
      "Pichu: [20.759216855120783, 32.46166610892119]\n",
      "Pikachu: [25.15076144887497, 33.89409391341271]\n",
      "Pichu: [18.341233265627693, 31.399261188293124]\n",
      "Pikachu: [23.64067859798334, 38.192278809575996]\n",
      "Pichu: [21.78836263199249, 32.339722449295664]\n",
      "Pichu: [16.866105280907732, 28.984730409305136]\n",
      "Pichu: [22.091553997471266, 31.28659385225738]\n",
      "Pikachu: [24.77859198674412, 34.15166673260206]\n",
      "Pichu: [20.101930916301317, 31.19190374413498]\n",
      "Pichu: [19.120619567709372, 30.699542112256864]\n",
      "Pichu: [20.118681851201636, 31.89116680793916]\n",
      "Pikachu: [20.240420339246214, 33.87654102727224]\n",
      "Pichu: [20.554378047506688, 31.190868044454003]\n",
      "Pikachu: [24.601954468608902, 32.78817486174627]\n",
      "Pichu: [18.16229126686346, 29.93643755301725]\n",
      "Pikachu: [23.63591632187622, 36.46821490673444]\n",
      "Pikachu: [23.02865997158701, 35.4082866561793]\n",
      "Pikachu: [24.73645685241186, 35.33291181124776]\n",
      "Pikachu: [24.686621418656394, 33.104763826036056]\n",
      "Pikachu: [24.961373776424374, 33.9228476372155]\n",
      "Pikachu: [22.826788929142136, 37.16482263385777]\n",
      "\n",
      "Test Data:\n",
      "Pichu: [21.35018601896744, 33.94708664610186]\n",
      "Pichu: [19.120619567709372, 30.699542112256864]\n",
      "Pikachu: [23.506242342727596, 34.65976495915212]\n",
      "Pichu: [20.759216855120783, 32.46166610892119]\n",
      "Pichu: [16.866105280907732, 28.984730409305136]\n",
      "Pikachu: [22.42591934771403, 34.789785253591695]\n",
      "Pikachu: [25.20630552859312, 36.558816149350534]\n",
      "Pikachu: [24.59096971887165, 33.61859674823029]\n",
      "Pikachu: [23.792145242488125, 35.107650004447365]\n",
      "Pikachu: [23.783158802270272, 36.043496466883504]\n",
      "Pikachu: [24.47796159427686, 35.32146634770389]\n",
      "Pikachu: [24.111063562798908, 31.418267572382227]\n",
      "Pichu: [20.670175582205307, 32.56517816055985]\n",
      "Pikachu: [25.5491811833759, 33.52624549604696]\n",
      "Pichu: [19.63004376836659, 33.17007380684688]\n",
      "Pikachu: [24.387651550868913, 33.2827564295772]\n",
      "Pikachu: [26.517189386365075, 34.7011323493234]\n",
      "Pichu: [19.639358214988224, 34.56117030001663]\n",
      "Pikachu: [25.102866296361412, 33.30022994232253]\n",
      "Pichu: [23.541999631800756, 32.4751927528317]\n",
      "Pichu: [20.276898330625336, 33.84658247356705]\n",
      "Pikachu: [23.114574183632723, 35.530813208835745]\n",
      "Pikachu: [25.813562951888365, 35.561029988644336]\n",
      "Pichu: [18.124817511542226, 31.997288449746307]\n",
      "Pikachu: [22.819091361866796, 34.25516433025548]\n",
      "Pichu: [20.191281253428173, 35.06966921830237]\n",
      "Pikachu: [25.922634453956498, 35.2215760062586]\n",
      "Pichu: [20.282109030336354, 33.18796105898338]\n",
      "Pichu: [20.286130095999752, 32.05337469378953]\n",
      "Pikachu: [24.557612968127465, 36.73144402805611]\n",
      "Pichu: [18.341233265627693, 31.399261188293124]\n",
      "Pichu: [20.579090632339703, 30.771060416224586]\n",
      "Pichu: [17.672876665469843, 32.67247775608707]\n",
      "Pikachu: [23.63591632187622, 36.46821490673444]\n",
      "Pichu: [18.310337204918557, 32.21783772801109]\n",
      "Pikachu: [23.10295249458573, 34.771846982043876]\n",
      "Pichu: [23.213535136458052, 30.885396636777646]\n",
      "Pichu: [18.59843317023302, 32.60944545701523]\n",
      "Pikachu: [23.64067859798334, 38.192278809575996]\n",
      "Pichu: [17.905128921789093, 28.88813385482529]\n",
      "Pikachu: [21.735098682375444, 36.51127780882874]\n",
      "Pichu: [21.07884990354048, 32.02998372994636]\n",
      "Pichu: [22.30210323807139, 32.73237945145149]\n",
      "Pichu: [19.592545899041802, 30.59392660926762]\n",
      "Pichu: [19.893039297257797, 30.792717627266093]\n",
      "Pikachu: [26.388368121945867, 35.62090746957761]\n",
      "Pikachu: [24.385289647525166, 37.335669057387726]\n",
      "Pikachu: [25.82936770950206, 33.16210202637511]\n",
      "Pikachu: [26.5173046073707, 35.18452932633369]\n",
      "Pichu: [23.6967469082275, 32.52744160379351]\n"
     ]
    }
   ],
   "source": [
    "import random\n",
    "\n",
    "random.shuffle(label_1_data)\n",
    "random.shuffle(label_0_data)\n",
    "\n",
    "num_training_samples = 100\n",
    "num_test_samples = 50\n",
    "\n",
    "# Splitting the shuffled pikachu data into training and test sets, // means integer division\n",
    "pikachu_training = label_1_data[: num_training_samples // 2]\n",
    "pikachu_test = label_1_data[num_training_samples // 2:num_training_samples // 2 + num_test_samples // 2]\n",
    "\n",
    "# splitting shuffled pichu data\n",
    "pichu_training = label_0_data[: num_training_samples // 2]\n",
    "pichu_test = label_0_data[num_training_samples // 2:num_training_samples // 2 + num_test_samples // 2]\n",
    "\n",
    "training_data = pikachu_training + pichu_training\n",
    "test_data = pikachu_test + pichu_test\n",
    "\n",
    "random.shuffle(training_data)\n",
    "random.shuffle(test_data)\n",
    "\n",
    "# Creating tagged training_data and test_data\n",
    "pikachu_training_label = [(item, \"Pikachu\") for item in pikachu_training]\n",
    "pichu_training_label = [(item, \"Pichu\") for item in pichu_training]\n",
    "training_data_label = pikachu_training_label + pichu_training_label\n",
    "\n",
    "pikachu_test_label = [(item, \"Pikachu\") for item in pikachu_test]\n",
    "pichu_test_label = [(item, \"Pichu\") for item in pichu_test]\n",
    "test_data_label = pikachu_test_label + pichu_test_label\n",
    "\n",
    "random.shuffle(training_data_label)\n",
    "random.shuffle(test_data_label)\n",
    "\n",
    "print(\"Training Data:\")\n",
    "for item, label in training_data_label:\n",
    "    print(f\"{label}: {item}\")\n",
    "\n",
    "print(\"\\nTest Data:\")\n",
    "for item, label in test_data_label:\n",
    "    print(f\"{label}: {item}\")\n",
    "\n"
   ]
  },
  {
   "cell_type": "markdown",
   "metadata": {},
   "source": [
    "## Uppgift 4"
   ]
  },
  {
   "cell_type": "code",
   "execution_count": 2,
   "metadata": {},
   "outputs": [
    {
     "ename": "NameError",
     "evalue": "name 'test_data_label' is not defined",
     "output_type": "error",
     "traceback": [
      "\u001b[1;31m---------------------------------------------------------------------------\u001b[0m",
      "\u001b[1;31mNameError\u001b[0m                                 Traceback (most recent call last)",
      "\u001b[1;32mc:\\Users\\MaxF�rsntr�m-AI23GBG\\Documents\\github\\python_max_farnstrom\\Labs\\Lab2.ipynb Cell 18\u001b[0m line \u001b[0;36m1\n\u001b[0;32m     <a href='vscode-notebook-cell:/c%3A/Users/MaxF%EF%BF%BDrsntr%EF%BF%BDm-AI23GBG/Documents/github/python_max_farnstrom/Labs/Lab2.ipynb#X23sZmlsZQ%3D%3D?line=15'>16</a>\u001b[0m TN \u001b[39m=\u001b[39m \u001b[39m0\u001b[39m\n\u001b[0;32m     <a href='vscode-notebook-cell:/c%3A/Users/MaxF%EF%BF%BDrsntr%EF%BF%BDm-AI23GBG/Documents/github/python_max_farnstrom/Labs/Lab2.ipynb#X23sZmlsZQ%3D%3D?line=17'>18</a>\u001b[0m \u001b[39m# going through test data and calculating distances, sort them, counting and choosing maj class, and also uppdate tp, fp, fn, tn on the real labels\u001b[39;00m\n\u001b[1;32m---> <a href='vscode-notebook-cell:/c%3A/Users/MaxF%EF%BF%BDrsntr%EF%BF%BDm-AI23GBG/Documents/github/python_max_farnstrom/Labs/Lab2.ipynb#X23sZmlsZQ%3D%3D?line=18'>19</a>\u001b[0m \u001b[39mfor\u001b[39;00m test_point, actual_label \u001b[39min\u001b[39;00m test_data_label:\n\u001b[0;32m     <a href='vscode-notebook-cell:/c%3A/Users/MaxF%EF%BF%BDrsntr%EF%BF%BDm-AI23GBG/Documents/github/python_max_farnstrom/Labs/Lab2.ipynb#X23sZmlsZQ%3D%3D?line=19'>20</a>\u001b[0m     distances \u001b[39m=\u001b[39m [(calculate_distance(test_point, train_point), train_label) \u001b[39mfor\u001b[39;00m train_point, train_label \u001b[39min\u001b[39;00m training_data_label]\n\u001b[0;32m     <a href='vscode-notebook-cell:/c%3A/Users/MaxF%EF%BF%BDrsntr%EF%BF%BDm-AI23GBG/Documents/github/python_max_farnstrom/Labs/Lab2.ipynb#X23sZmlsZQ%3D%3D?line=21'>22</a>\u001b[0m     sorted_distances \u001b[39m=\u001b[39m \u001b[39msorted\u001b[39m(distances, key\u001b[39m=\u001b[39m\u001b[39mlambda\u001b[39;00m x: x[\u001b[39m0\u001b[39m])\n",
      "\u001b[1;31mNameError\u001b[0m: name 'test_data_label' is not defined"
     ]
    }
   ],
   "source": [
    "import math\n",
    "import matplotlib.pyplot as plt\n",
    "\n",
    "accuracy_val = []\n",
    "k_val = []\n",
    "\n",
    "def calculate_distance(point1, point2):\n",
    "    return math.sqrt((point1[0] - point2[0])**2 + (point1[1] - point2[1])**2)\n",
    "\n",
    "\n",
    "# going through different values for k(1-8)\n",
    "for k in range(1, 8):\n",
    "    TP = 0\n",
    "    FP = 0\n",
    "    FN = 0\n",
    "    TN = 0\n",
    "\n",
    "    # going through test data and calculating distances, sort them, counting and choosing maj class, and also uppdate tp, fp, fn, tn on the real labels\n",
    "    for test_point, actual_label in test_data_label:\n",
    "        distances = [(calculate_distance(test_point, train_point), train_label) for train_point, train_label in training_data_label]\n",
    "\n",
    "        sorted_distances = sorted(distances, key=lambda x: x[0])\n",
    "        k_nearest = sorted_distances[:k]\n",
    "\n",
    "        pikachu_count = sum(1 for _, label in k_nearest if label == \"Pikachu\")\n",
    "        pichu_count = sum(1 for _, label in k_nearest if label == \"Pichu\")\n",
    "\n",
    "        predicted_label = \"Pikachu\" if pikachu_count > pichu_count else \"Pichu\"\n",
    "\n",
    "        if predicted_label == \"Pikachu\" and actual_label == \"Pikachu\":\n",
    "            TP += 1\n",
    "        elif predicted_label == \"Pikachu\" and actual_label == \"Pichu\":\n",
    "            FP += 1\n",
    "        elif predicted_label == \"Pichu\" and actual_label == \"Pikachu\":\n",
    "            FN += 1\n",
    "        else:\n",
    "            TN += 1\n",
    "    \n",
    "    # calculating accuracy\n",
    "    Total = len(test_data_label)\n",
    "    accuracy = (TP + TN) / Total\n",
    "\n",
    "    # adding k_val and accuracy for plotting\n",
    "    accuracy_val.append(accuracy)\n",
    "    k_val.append(k)\n",
    "\n",
    "plt.plot(k_val, accuracy_val, color= \"blue\")\n",
    "plt.title(\"Accuracy vs K value\")\n",
    "plt.xlabel(\"K value\")\n",
    "plt.ylabel(\"Accuracy\")\n",
    "plt.grid(True)\n",
    "plt.show"
   ]
  }
 ],
 "metadata": {
  "kernelspec": {
   "display_name": "python_max_farnstrom-X2dyWug9",
   "language": "python",
   "name": "python3"
  },
  "language_info": {
   "codemirror_mode": {
    "name": "ipython",
    "version": 3
   },
   "file_extension": ".py",
   "mimetype": "text/x-python",
   "name": "python",
   "nbconvert_exporter": "python",
   "pygments_lexer": "ipython3",
   "version": "3.11.5"
  },
  "orig_nbformat": 4
 },
 "nbformat": 4,
 "nbformat_minor": 2
}
