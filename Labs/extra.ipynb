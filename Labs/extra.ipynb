{
 "cells": [
  {
   "cell_type": "code",
   "execution_count": null,
   "metadata": {},
   "outputs": [],
   "source": [
    "while True:\n",
    "    try: \n",
    "        width = float(input(\"Enter width of testpoint: \"))\n",
    "        height = float(input(\"Enter height of tespoint: \"))\n",
    "        test_point = (width, height)\n",
    "        break\n",
    "    except ValueError:\n",
    "        print(\"Invalid input, try again\")\n",
    "\n",
    "min_distance = float(\"inf\")\n",
    "closest_label = None\n",
    "for i in range(num_points):\n",
    "    distance = euclidean_distance(test_point, all_data[i])\n",
    "    if distance < min_distance:\n",
    "        min_distance = distance\n",
    "        if i < len(label_0_data):\n",
    "            closest_label = \"Pichu\"\n",
    "        elif i < len(label_0_data) + len(label_1_data):\n",
    "            closest_label = \"Pikachu\"\n",
    "\n",
    "print(f\"Test point with (width, height): {test_point} is classified as {closest_label}\")"
   ]
  }
 ],
 "metadata": {
  "language_info": {
   "name": "python"
  },
  "orig_nbformat": 4
 },
 "nbformat": 4,
 "nbformat_minor": 2
}
