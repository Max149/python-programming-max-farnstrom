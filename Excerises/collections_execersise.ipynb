{
 "cells": [
  {
   "cell_type": "markdown",
   "metadata": {},
   "source": [
    "# Print inputed values in reverse (*)"
   ]
  },
  {
   "cell_type": "code",
   "execution_count": 3,
   "metadata": {},
   "outputs": [
    {
     "ename": "AttributeError",
     "evalue": "'str' object has no attribute 'append'",
     "output_type": "error",
     "traceback": [
      "\u001b[1;31m---------------------------------------------------------------------------\u001b[0m",
      "\u001b[1;31mAttributeError\u001b[0m                            Traceback (most recent call last)",
      "\u001b[1;32mc:\\Users\\MaxF�rsntr�m-AI23GBG\\Documents\\github\\python_max_farnstrom\\Excerises\\collections_execersise.ipynb Cell 2\u001b[0m line \u001b[0;36m9\n\u001b[0;32m      <a href='vscode-notebook-cell:/c%3A/Users/MaxF%EF%BF%BDrsntr%EF%BF%BDm-AI23GBG/Documents/github/python_max_farnstrom/Excerises/collections_execersise.ipynb#W3sZmlsZQ%3D%3D?line=6'>7</a>\u001b[0m         \u001b[39mbreak\u001b[39;00m\n\u001b[0;32m      <a href='vscode-notebook-cell:/c%3A/Users/MaxF%EF%BF%BDrsntr%EF%BF%BDm-AI23GBG/Documents/github/python_max_farnstrom/Excerises/collections_execersise.ipynb#W3sZmlsZQ%3D%3D?line=7'>8</a>\u001b[0m     \u001b[39melse\u001b[39;00m: \n\u001b[1;32m----> <a href='vscode-notebook-cell:/c%3A/Users/MaxF%EF%BF%BDrsntr%EF%BF%BDm-AI23GBG/Documents/github/python_max_farnstrom/Excerises/collections_execersise.ipynb#W3sZmlsZQ%3D%3D?line=8'>9</a>\u001b[0m         User_input\u001b[39m.\u001b[39;49mappend(User_input)\n\u001b[0;32m     <a href='vscode-notebook-cell:/c%3A/Users/MaxF%EF%BF%BDrsntr%EF%BF%BDm-AI23GBG/Documents/github/python_max_farnstrom/Excerises/collections_execersise.ipynb#W3sZmlsZQ%3D%3D?line=10'>11</a>\u001b[0m User_inputs\u001b[39m.\u001b[39mreverse()\n\u001b[0;32m     <a href='vscode-notebook-cell:/c%3A/Users/MaxF%EF%BF%BDrsntr%EF%BF%BDm-AI23GBG/Documents/github/python_max_farnstrom/Excerises/collections_execersise.ipynb#W3sZmlsZQ%3D%3D?line=12'>13</a>\u001b[0m \u001b[39mprint\u001b[39m(\u001b[39m\"\u001b[39m\u001b[39mUser inputs in reverse:\u001b[39m\u001b[39m\"\u001b[39m)\n",
      "\u001b[1;31mAttributeError\u001b[0m: 'str' object has no attribute 'append'"
     ]
    }
   ],
   "source": [
    "User_inputs = []\n",
    "\n",
    "while True:\n",
    "    User_input = input(\"Enter word (or press Enter to quit loop): \")\n",
    "\n",
    "    if User_input == \"\":\n",
    "        break\n",
    "    else: \n",
    "        User_input.append(User_input)\n",
    "\n",
    "User_inputs.reverse()\n",
    "\n",
    "print(\"User inputs in reverse:\")\n",
    "for item in User_inputs:\n",
    "    print(item)\n",
    "\n",
    "\n",
    "\n"
   ]
  },
  {
   "cell_type": "markdown",
   "metadata": {},
   "source": [
    "## Print a given number using words(*)"
   ]
  },
  {
   "cell_type": "code",
   "execution_count": 14,
   "metadata": {},
   "outputs": [
    {
     "name": "stdout",
     "output_type": "stream",
     "text": [
      "Words: \n",
      "Invalid\n"
     ]
    }
   ],
   "source": [
    "Dictionary = {\"0\": \"Zero\", \"1\":\"One\", \"2\": \"two\", \"3\": \"three\", \"4\": \"four\", \"5\": \"five\", \"6\": \"six\", \"7\": \"seven\", \"8\": \"eight\"}\n",
    "\n",
    "Dictionary_input = input(\"Enter number: \")\n",
    "\n",
    "Dictionary_num = Dictionary_input.split(',')\n",
    "\n",
    "words = []\n",
    "\n",
    "for num in Dictionary_num:\n",
    "    num = num.strip()\n",
    "    if num in Dictionary:\n",
    "        words.append(Dictionary[num])    \n",
    "    else:\n",
    "        words.append(\"Invalid\")\n",
    "\n",
    "print(\"Words: \")\n",
    "for word in words:\n",
    "    print(word)"
   ]
  },
  {
   "cell_type": "code",
   "execution_count": null,
   "metadata": {},
   "outputs": [],
   "source": []
  }
 ],
 "metadata": {
  "kernelspec": {
   "display_name": "python_max_farnstrom-X2dyWug9",
   "language": "python",
   "name": "python3"
  },
  "language_info": {
   "codemirror_mode": {
    "name": "ipython",
    "version": 3
   },
   "file_extension": ".py",
   "mimetype": "text/x-python",
   "name": "python",
   "nbconvert_exporter": "python",
   "pygments_lexer": "ipython3",
   "version": "3.11.5"
  },
  "orig_nbformat": 4
 },
 "nbformat": 4,
 "nbformat_minor": 2
}
