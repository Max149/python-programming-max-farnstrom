{
 "cells": [
  {
   "cell_type": "markdown",
   "metadata": {},
   "source": [
    "If we list all the natural numbers below 10\n",
    " that are multiples of \n",
    " 3 or 5\n",
    ", we get \n",
    " 3, 5, 6, and 9\n",
    ". The sum of these multiples is 23\n",
    ".\n",
    "\n",
    "Find the sum of all the multiples of \n",
    " 3 or 5\n",
    " below 1000\n",
    ".\n",
    "\n"
   ]
  },
  {
   "cell_type": "code",
   "execution_count": null,
   "metadata": {},
   "outputs": [],
   "source": []
  }
 ],
 "metadata": {
  "language_info": {
   "name": "python"
  },
  "orig_nbformat": 4
 },
 "nbformat": 4,
 "nbformat_minor": 2
}
