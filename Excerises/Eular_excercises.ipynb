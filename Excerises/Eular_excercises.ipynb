{
 "cells": [
  {
   "cell_type": "markdown",
   "metadata": {},
   "source": [
    "Multiples of 3 or 5"
   ]
  },
  {
   "cell_type": "code",
   "execution_count": 4,
   "metadata": {},
   "outputs": [
    {
     "name": "stdout",
     "output_type": "stream",
     "text": [
      "15\n",
      "24\n",
      "35\n",
      "48\n",
      "63\n",
      "80\n",
      "99\n",
      "120\n",
      "143\n",
      "168\n",
      "195\n",
      "224\n",
      "255\n",
      "288\n",
      "323\n",
      "360\n",
      "399\n",
      "440\n",
      "483\n",
      "528\n",
      "575\n",
      "624\n",
      "675\n",
      "728\n",
      "783\n",
      "840\n",
      "899\n",
      "960\n",
      "1023\n",
      "1023\n"
     ]
    }
   ],
   "source": [
    "num1 = 3\n",
    "num2 = 5\n",
    "result = 0\n",
    "while result<1000:\n",
    "    result = num1 * num2\n",
    "    print(result)\n",
    "    num1 = num1 + 1\n",
    "    num2 = num2 + 1\n",
    "print(result)"
   ]
  },
  {
   "cell_type": "markdown",
   "metadata": {},
   "source": [
    "Even fibonacci numbers"
   ]
  },
  {
   "cell_type": "code",
   "execution_count": 2,
   "metadata": {},
   "outputs": [
    {
     "name": "stdout",
     "output_type": "stream",
     "text": [
      "4613732\n"
     ]
    }
   ],
   "source": [
    "from itertools import islice, takewhile\n",
    "\n",
    "def fib():\n",
    "    a = 0\n",
    "    b = 1\n",
    "    while True:\n",
    "        yield a\n",
    "        a, b = b, a + b\n",
    "\n",
    "f = fib()\n",
    "\n",
    "evens = islice(f, 0, None, 3)\n",
    "small = takewhile(lambda x: x <= 4000000, evens)\n",
    "result = sum(small)\n",
    "\n",
    "evens = filter(lambda x: x % 2 == 0, f)\n",
    "\n",
    "print(result)"
   ]
  },
  {
   "cell_type": "markdown",
   "metadata": {},
   "source": [
    "Largest prime factor"
   ]
  },
  {
   "cell_type": "code",
   "execution_count": 7,
   "metadata": {},
   "outputs": [
    {
     "name": "stdout",
     "output_type": "stream",
     "text": [
      "6857\n"
     ]
    }
   ],
   "source": [
    "from math import sqrt\n",
    "\n",
    "def is_prime(n):\n",
    "    for a in range(2, int(sqrt(n))):\n",
    "        if n % a == 0:\n",
    "            return False\n",
    "    return True\n",
    "\n",
    "def prime_factors(x):\n",
    "    my_list = []\n",
    "    for no3 in range(2, int(sqrt(x))):\n",
    "        if x % no3 == 0:\n",
    "            if is_prime(no3):\n",
    "                my_list.append(no3)\n",
    "            if is_prime(x/no3):\n",
    "                my_list.append(no3)\n",
    "    print(max(my_list))   \n",
    "\n",
    "prime_factors(600851475143)"
   ]
  },
  {
   "cell_type": "markdown",
   "metadata": {},
   "source": []
  },
  {
   "cell_type": "markdown",
   "metadata": {},
   "source": [
    "Largest palindrome product"
   ]
  },
  {
   "cell_type": "code",
   "execution_count": 9,
   "metadata": {},
   "outputs": [
    {
     "name": "stdout",
     "output_type": "stream",
     "text": [
      "906609\n"
     ]
    }
   ],
   "source": [
    "def is_palindrome(num):\n",
    "    return str(num) == str(num)[::-1]\n",
    "\n",
    "def largest_palindrome_product():\n",
    "    largest_palindrome = 0\n",
    "    for i in range(100, 1000):\n",
    "        for j in range(i, 1000):\n",
    "            product = i * j\n",
    "            if is_palindrome(product) and product > largest_palindrome:\n",
    "                largest_palindrome = product\n",
    "\n",
    "    return largest_palindrome\n",
    "\n",
    "result = largest_palindrome_product()\n",
    "print(result)\n",
    "\n"
   ]
  },
  {
   "cell_type": "markdown",
   "metadata": {},
   "source": [
    "5. smallest multiple"
   ]
  },
  {
   "cell_type": "code",
   "execution_count": 10,
   "metadata": {},
   "outputs": [
    {
     "name": "stdout",
     "output_type": "stream",
     "text": [
      "232792560\n"
     ]
    }
   ],
   "source": [
    "from math import gcd\n",
    "from functools import reduce\n",
    "\n",
    "def lcm(a, b):\n",
    "    return a * b // gcd(a, b)\n",
    "\n",
    "def smallest_multiple(n):\n",
    "    return reduce(lcm, range(1, n + 1))\n",
    "\n",
    "result = smallest_multiple(20)\n",
    "\n",
    "print(result)"
   ]
  },
  {
   "cell_type": "markdown",
   "metadata": {},
   "source": [
    "6. sum square difference"
   ]
  },
  {
   "cell_type": "code",
   "execution_count": 11,
   "metadata": {},
   "outputs": [
    {
     "name": "stdout",
     "output_type": "stream",
     "text": [
      "25164150\n"
     ]
    }
   ],
   "source": [
    "def sum_square_difference(n):\n",
    "    numbers = range(1, n+1)\n",
    "    sum_squares = sum(i**2 for i in numbers)\n",
    "    square_sum = sum(numbers)**2\n",
    "    return square_sum - sum_squares\n",
    "\n",
    "print(sum_square_difference(100))"
   ]
  },
  {
   "cell_type": "markdown",
   "metadata": {},
   "source": [
    "7. 10001st prime"
   ]
  },
  {
   "cell_type": "code",
   "execution_count": 12,
   "metadata": {},
   "outputs": [
    {
     "name": "stdout",
     "output_type": "stream",
     "text": [
      "104743\n"
     ]
    }
   ],
   "source": [
    "import itertools\n",
    "\n",
    "def is_prime(n):\n",
    "    for i in range(2, n//2 + 1):\n",
    "        if n % i == 0:\n",
    "            return False\n",
    "        else:\n",
    "            continue\n",
    "    return True\n",
    "\n",
    "p = 0\n",
    "for x in itertools.count(1):\n",
    "    if is_prime(x):\n",
    "        if p == 10001:\n",
    "            print(x)\n",
    "            break\n",
    "        p += 1\n"
   ]
  },
  {
   "cell_type": "markdown",
   "metadata": {},
   "source": [
    "8. Largest product in series"
   ]
  },
  {
   "cell_type": "code",
   "execution_count": 13,
   "metadata": {},
   "outputs": [
    {
     "name": "stdout",
     "output_type": "stream",
     "text": [
      "23514624000\n"
     ]
    }
   ],
   "source": [
    "number_str = (\n",
    "\n",
    "\"73167176531330624919225119674426574742355349194934\"\n",
    "\"96983520312774506326239578318016984801869478851843\"\n",
    "\"85861560789112949495459501737958331952853208805511\"\n",
    "\"12540698747158523863050715693290963295227443043557\"\n",
    "\"66896648950445244523161731856403098711121722383113\"\n",
    "\"62229893423380308135336276614282806444486645238749\"\n",
    "\"30358907296290491560440772390713810515859307960866\"\n",
    "\"70172427121883998797908792274921901699720888093776\"\n",
    "\"65727333001053367881220235421809751254540594752243\"\n",
    "\"52584907711670556013604839586446706324415722155397\"\n",
    "\"53697817977846174064955149290862569321978468622482\"\n",
    "\"83972241375657056057490261407972968652414535100474\"\n",
    "\"82166370484403199890008895243450658541227588666881\"\n",
    "\"16427171479924442928230863465674813919123162824586\"\n",
    "\"17866458359124566529476545682848912883142607690042\"\n",
    "\"24219022671055626321111109370544217506941658960408\"\n",
    "\"07198403850962455444362981230987879927244284909188\"\n",
    "\"84580156166097919133875499200524063689912560717606\"\n",
    "\"05886116467109405077541002256983155200055935729725\"\n",
    "\"71636269561882670428252483600823257530420752963450\"\n",
    "\n",
    ")\n",
    "\n",
    "def greatest_product_in_series(series, adjacent_digits):\n",
    "    max_product = 0\n",
    "    for i in range(len(series) - adjacent_digits + 1):\n",
    "        current_product = 1\n",
    "        for j in range(adjacent_digits):\n",
    "            current_product *= int(series[i + j])\n",
    "        max_product = max(max_product, current_product)\n",
    "    return max_product\n",
    "\n",
    "result = greatest_product_in_series(number_str, 13)\n",
    "print(result)"
   ]
  },
  {
   "cell_type": "markdown",
   "metadata": {},
   "source": [
    "9. Special pythagorean triplet"
   ]
  },
  {
   "cell_type": "code",
   "execution_count": 19,
   "metadata": {},
   "outputs": [
    {
     "name": "stdout",
     "output_type": "stream",
     "text": [
      "31875000\n"
     ]
    }
   ],
   "source": [
    "def find_pythagorean_triplet(target_sum):\n",
    "    for a in range(1, target_sum):\n",
    "        for b in range(a, target_sum - a):\n",
    "            c = target_sum - a - b\n",
    "            if a**2 + b**2 == c**2:\n",
    "                return a, b, c\n",
    "            \n",
    "def product_of_triplet(triplet):\n",
    "    return triplet[0] * triplet[1] * triplet[2]\n",
    "\n",
    "target_sum = 1000\n",
    "pythagorean_triplet = find_pythagorean_triplet(target_sum)\n",
    "result = product_of_triplet(pythagorean_triplet)\n",
    "print(result)"
   ]
  },
  {
   "cell_type": "markdown",
   "metadata": {},
   "source": [
    "a = 200, b = 375, c = 425"
   ]
  },
  {
   "cell_type": "markdown",
   "metadata": {},
   "source": [
    "10. Summation of primes"
   ]
  },
  {
   "cell_type": "code",
   "execution_count": 15,
   "metadata": {},
   "outputs": [
    {
     "name": "stdout",
     "output_type": "stream",
     "text": [
      "142913828922\n"
     ]
    }
   ],
   "source": [
    "def is_prime(num):\n",
    "    if num < 2:\n",
    "        return False\n",
    "    for i in range(2, int(num**0.5) + 1):\n",
    "        if num % i == 0:\n",
    "            return False\n",
    "    return True\n",
    "\n",
    "def sum_of_primes(limit):\n",
    "    total_sum = 0\n",
    "    for i in range(2, limit):\n",
    "        if is_prime(i):\n",
    "            total_sum += i\n",
    "    return total_sum\n",
    "\n",
    "result = sum_of_primes(2000000)\n",
    "print(result)"
   ]
  },
  {
   "cell_type": "markdown",
   "metadata": {},
   "source": [
    "11. Largest product in grid"
   ]
  },
  {
   "cell_type": "code",
   "execution_count": null,
   "metadata": {},
   "outputs": [],
   "source": [
    "grid_str"
   ]
  }
 ],
 "metadata": {
  "kernelspec": {
   "display_name": "python_max_farnstrom-X2dyWug9",
   "language": "python",
   "name": "python3"
  },
  "language_info": {
   "codemirror_mode": {
    "name": "ipython",
    "version": 3
   },
   "file_extension": ".py",
   "mimetype": "text/x-python",
   "name": "python",
   "nbconvert_exporter": "python",
   "pygments_lexer": "ipython3",
   "version": "3.11.5"
  },
  "orig_nbformat": 4
 },
 "nbformat": 4,
 "nbformat_minor": 2
}
