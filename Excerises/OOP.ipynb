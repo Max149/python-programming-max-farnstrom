{
 "cells": [
  {
   "cell_type": "markdown",
   "metadata": {},
   "source": [
    "## 1. Step Tracker"
   ]
  },
  {
   "cell_type": "code",
   "execution_count": 5,
   "metadata": {},
   "outputs": [
    {
     "name": "stdout",
     "output_type": "stream",
     "text": [
      "Total steps: 1000\n"
     ]
    }
   ],
   "source": [
    "class step_tracker:\n",
    "    def __init__(self):\n",
    "        self._steps = 0\n",
    "    \n",
    "    @property\n",
    "    def steps(self):\n",
    "        return self._steps\n",
    "    \n",
    "    def step(self):\n",
    "        self._steps += 1\n",
    "\n",
    "    def reset(self):\n",
    "        self._steps = 0\n",
    "\n",
    "Tracker = step_tracker()\n",
    "\n",
    "for _ in range(1000):\n",
    "    Tracker.step()\n",
    "\n",
    "print(\"Total steps:\", Tracker.steps )\n",
    "\n",
    "\n",
    "    \n"
   ]
  },
  {
   "cell_type": "markdown",
   "metadata": {},
   "source": [
    "# 2. empty/full glass simulator"
   ]
  },
  {
   "cell_type": "code",
   "execution_count": 8,
   "metadata": {},
   "outputs": [
    {
     "name": "stdout",
     "output_type": "stream",
     "text": [
      "Filling glass\n",
      "emptying glass\n",
      "Filling glass\n",
      "the glass broke\n",
      "cant be filled anymore\n",
      "cant be filled emptied\n"
     ]
    }
   ],
   "source": [
    "class glass_water:\n",
    "    def __init__(self):\n",
    "        self._is_full = False\n",
    "        self._is_broken = False\n",
    "\n",
    "    def _break_glass(self):\n",
    "        self._is_broken = True\n",
    "        self._is_full = False\n",
    "        print(\"the glass broke\")\n",
    "\n",
    "    def fill_glass(self):\n",
    "        if self._is_broken:\n",
    "            print(\"cant be filled anymore\")\n",
    "        elif self._is_full:\n",
    "            print(\"Its already full, stupid\")\n",
    "        else:\n",
    "            self._is_full = True\n",
    "            print(\"Filling glass\")\n",
    "\n",
    "    def empty_glass(self):\n",
    "        if self._is_broken:\n",
    "            print(\"cant be filled, emptied\")\n",
    "        elif not self._is_full:\n",
    "            print(\"Its already empty, stupid\")\n",
    "        else:\n",
    "            self._is_full = False\n",
    "            print(\"emptying glass\")\n",
    "\n",
    "    def break_glass(self):\n",
    "        if self._is_broken:\n",
    "            print(\"the glass already broke\")\n",
    "        else:\n",
    "            self._break_glass()\n",
    "\n",
    "glass = glass_water()\n",
    "\n",
    "glass.fill_glass()\n",
    "glass.empty_glass()\n",
    "glass.fill_glass()\n",
    "glass.break_glass()\n",
    "glass.fill_glass()\n",
    "glass.empty_glass()\n",
    "\n",
    "    "
   ]
  },
  {
   "cell_type": "markdown",
   "metadata": {},
   "source": [
    "# 3. Red and Blue"
   ]
  },
  {
   "cell_type": "code",
   "execution_count": 10,
   "metadata": {},
   "outputs": [
    {
     "name": "stdout",
     "output_type": "stream",
     "text": [
      "Red: 91.5\n"
     ]
    }
   ],
   "source": [
    "class colors:\n",
    "    def __init__(self):\n",
    "        self._red = 0.0\n",
    "        self._blue = 0.0\n",
    "\n",
    "    @property\n",
    "    def red(self):\n",
    "        return self._red\n",
    "    \n",
    "    @red.setter\n",
    "    def red(self, value):\n",
    "        if 0.0 <= value <= 100.0:\n",
    "            self._red = value\n",
    "            self._blue = 100.0 - value\n",
    "        else:\n",
    "            raise ValueError(\"must be between 0 and 100\")\n",
    "        \n",
    "    @property\n",
    "    def blue(self):\n",
    "        return self._blue\n",
    "    \n",
    "    @blue.setter\n",
    "    def blue(self, value):\n",
    "        if 0.0 <= value <= 100.0:\n",
    "            self._blue = value\n",
    "            self._red = 100.0 - value\n",
    "        else:\n",
    "            raise ValueError(\"must be between 0 and 100\")\n",
    "        \n",
    "splitter = colors()\n",
    "\n",
    "splitter.blue = 8.5\n",
    "\n",
    "print(\"Red:\", splitter.red)\n",
    "\n",
    "\n",
    "        \n"
   ]
  },
  {
   "cell_type": "markdown",
   "metadata": {},
   "source": [
    "# 4. One Thousand Cars"
   ]
  },
  {
   "cell_type": "code",
   "execution_count": 13,
   "metadata": {},
   "outputs": [
    {
     "name": "stdout",
     "output_type": "stream",
     "text": [
      "Sum of lengths of black cars: 630.4793078969523\n"
     ]
    }
   ],
   "source": [
    "import random\n",
    "\n",
    "class cars:\n",
    "    def __init__(self):\n",
    "        self.color = self.give_random_color()\n",
    "        self.length = self.give_random_length()\n",
    "\n",
    "    def give_random_color(self):\n",
    "        colors = [\"red\", \"black\", \"green\", \"blue\", \"pink\", \"white\"]\n",
    "        return random.choice(colors)\n",
    "    \n",
    "    def give_random_length(self):\n",
    "        return random.uniform(3, 5)\n",
    "    \n",
    "car_list = [cars() for _ in range(1000)]\n",
    "\n",
    "sum_black_car_lengths = sum(car.length for car in car_list if car.color == \"black\")\n",
    "\n",
    "print(\"Sum of lengths of black cars:\", sum_black_car_lengths)\n",
    "\n",
    "    "
   ]
  },
  {
   "cell_type": "markdown",
   "metadata": {},
   "source": [
    "# 5. Email"
   ]
  },
  {
   "cell_type": "code",
   "execution_count": 13,
   "metadata": {},
   "outputs": [
    {
     "ename": "SyntaxError",
     "evalue": "expected ':' (1072889171.py, line 7)",
     "output_type": "error",
     "traceback": [
      "\u001b[1;36m  Cell \u001b[1;32mIn[13], line 7\u001b[1;36m\u001b[0m\n\u001b[1;33m    def username()\u001b[0m\n\u001b[1;37m                  ^\u001b[0m\n\u001b[1;31mSyntaxError\u001b[0m\u001b[1;31m:\u001b[0m expected ':'\n"
     ]
    }
   ],
   "source": [
    "class email:\n",
    "    def __init__(self, adress):\n",
    "        self._adress = adress\n",
    "\n",
    "    \n",
    "    @property\n",
    "    def username()\n",
    "\n",
    "    @property\n",
    "    def adress(Email):\n",
    "        pass\n",
    "    def domain_name():\n",
    "        pass\n",
    "    @property\n",
    "    def top_domain():\n",
    "\n",
    "    @property\n",
    "    def adress(self):\n",
    "        pass\n",
    "\n",
    "    @adress.setter\n",
    "    def adress(self, adress):\n",
    "        user_name = adress[:adress.index(\"@\")]\n",
    "        if \".\" in adress:\n",
    "            domain = adress[adress.index(\"@\") + 1:adress.index(\".\")]\n",
    "            top_domain = adress[adress.index(\".\") + 1:]\n",
    "\n",
    "        try:\n",
    "             #if len(user_name) > 1 and user_name.isalnum():\n",
    "               #print(\"heil\")\n",
    "            len(user_name) > 1 and user_name.isalnum()\n",
    "            len(domain) > 1 and domain.isalnum()\n",
    "            len(top_domain) > 1 and top_domain.isalnum()\n",
    "        except:\n",
    "            print(\"wrong email-adress\")\n",
    " \n",
    "\n",
    "\n",
    "            \n",
    "            \n",
    "\n",
    "\n",
    "\n",
    "\n",
    "        \n"
   ]
  }
 ],
 "metadata": {
  "kernelspec": {
   "display_name": "python_max_farnstrom-X2dyWug9",
   "language": "python",
   "name": "python3"
  },
  "language_info": {
   "codemirror_mode": {
    "name": "ipython",
    "version": 3
   },
   "file_extension": ".py",
   "mimetype": "text/x-python",
   "name": "python",
   "nbconvert_exporter": "python",
   "pygments_lexer": "ipython3",
   "version": "3.11.5"
  },
  "orig_nbformat": 4
 },
 "nbformat": 4,
 "nbformat_minor": 2
}
