{
 "cells": [
  {
   "cell_type": "code",
   "execution_count": null,
   "metadata": {},
   "outputs": [
    {
     "ename": "",
     "evalue": "",
     "output_type": "error",
     "traceback": [
      "\u001b[1;31mRunning cells with 'c:\\Users\\MaxF�rsntr�m-AI23GBG\\AppData\\Local\\Microsoft\\WindowsApps\\python3.11.exe' requires the ipykernel package.\n",
      "\u001b[1;31mRun the following command to install 'ipykernel' into the Python environment. \n",
      "\u001b[1;31mCommand: 'c:/Users/MaxF�rsntr�m-AI23GBG/AppData/Local/Microsoft/WindowsApps/python3.11.exe -m pip install ipykernel -U --user --force-reinstall'"
     ]
    }
   ],
   "source": [
    "1 # Data types\n",
    "2 - **string** (text)\n",
    "3 - **int** \n"
   ]
  },
  {
   "cell_type": "code",
   "execution_count": null,
   "metadata": {},
   "outputs": [],
   "source": [
    "1 mystring = \"Max\"\n",
    "print(mystring)\n",
    "\n",
    "myInt = 8\n",
    "print(myInt)\n",
    "\n",
    "myfloat = 3.14\n",
    "print(myfloat)\n",
    "\n",
    "mybool= True\n",
    "print(mybool)\n",
    "\n",
    "type(myInt)\n",
    "\n",
    "\n"
   ]
  },
  {
   "cell_type": "markdown",
   "metadata": {},
   "source": [
    "1 # Variables\n",
    "2 - case-sensitive\n",
    "3 - created when first asigned, doesnt need to be declared\n",
    "4 - Dynamic typing, type is reffered from assignment, can be retyped\n",
    "5 - cast type with: str(), int(), float(), bool()\n",
    "6 - get type with: type()\n",
    "7 - use del() to delete variables\n",
    "\n"
   ]
  },
  {
   "cell_type": "code",
   "execution_count": null,
   "metadata": {},
   "outputs": [
    {
     "ename": "",
     "evalue": "",
     "output_type": "error",
     "traceback": [
      "\u001b[1;31mRunning cells with 'c:\\Users\\MaxF�rsntr�m-AI23GBG\\AppData\\Local\\Microsoft\\WindowsApps\\python3.11.exe' requires the ipykernel package.\n",
      "\u001b[1;31mRun the following command to install 'ipykernel' into the Python environment. \n",
      "\u001b[1;31mCommand: 'c:/Users/MaxF�rsntr�m-AI23GBG/AppData/Local/Microsoft/WindowsApps/python3.11.exe -m pip install ipykernel -U --user --force-reinstall'"
     ]
    }
   ],
   "source": [
    "mynumber = \"56\"\n",
    "mynumber2 = int(mynumber)\n",
    "print(mynumber2 + 2)\n",
    "\n",
    "print(type(mynumber))\n",
    "print(type(mynumber2))\n",
    "\n",
    "del(mynumber2)\n",
    "print(mynumber2)\n",
    "\n",
    "# Cast string to bool => false for empty string, true for not empty string\n",
    "print(bool(\"dididid\"))\n",
    "\n",
    "# Casting numeric to bool => \n",
    "\n"
   ]
  },
  {
   "cell_type": "code",
   "execution_count": null,
   "metadata": {},
   "outputs": [],
   "source": [
    "name = input(\"enter your name: \")\n",
    "print(int(name) + 5)"
   ]
  },
  {
   "cell_type": "markdown",
   "metadata": {},
   "source": [
    "operators\n",
    "\n",
    "* addidtion +\n",
    "* subtraction -\n",
    "* multiplication *\n",
    "* divison /\n",
    "* Floor divison //\n",
    "* Modulus %\n",
    "* Upphojt till **"
   ]
  },
  {
   "cell_type": "code",
   "execution_count": null,
   "metadata": {},
   "outputs": [],
   "source": [
    "print(9 / 2)\n",
    "print(9//2)\n",
    "print(9 % 2)\n",
    "\n",
    "print(3**2)"
   ]
  },
  {
   "cell_type": "markdown",
   "metadata": {},
   "source": [
    "# Comperison operator\n",
    "- Equal == \n",
    "- Not equal !=\n",
    "- Less than <\n",
    "- greater than >\n",
    "- less or equal than <=\n",
    "- Greater or equal than >="
   ]
  },
  {
   "cell_type": "code",
   "execution_count": null,
   "metadata": {},
   "outputs": [],
   "source": [
    "1 x = 6\n",
    "2\n",
    "3 Print(x != 5)\n",
    "4 print(5 <= 8)\n",
    "5 print(5 < 5)\n",
    "6\n",
    "7 x = 15\n",
    "8\n",
    "9 print(x > 10 and x < 20)\n",
    "10 print(10 < x < 20)"
   ]
  },
  {
   "cell_type": "markdown",
   "metadata": {},
   "source": [
    "# Logical operators\n",
    "- and (true if are true)\n",
    "- or (true if one or both are true)\n",
    "- not (true if false, false if true)"
   ]
  },
  {
   "cell_type": "code",
   "execution_count": null,
   "metadata": {},
   "outputs": [],
   "source": [
    "1 print(True and True)\n",
    "2 print(True or False)\n",
    "3 print( not True)\n",
    "4\n",
    "5 print(5 == 5 and 7 == 8)"
   ]
  }
 ],
 "metadata": {
  "kernelspec": {
   "display_name": "Python 3",
   "language": "python",
   "name": "python3"
  },
  "language_info": {
   "name": "python",
   "version": "3.11.5"
  },
  "orig_nbformat": 4
 },
 "nbformat": 4,
 "nbformat_minor": 2
}
